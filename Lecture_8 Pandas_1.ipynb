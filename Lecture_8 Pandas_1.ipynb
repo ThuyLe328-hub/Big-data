{
 "cells": [
  {
   "cell_type": "markdown",
   "id": "cebec378",
   "metadata": {},
   "source": [
    "# Introduction to Pandas"
   ]
  },
  {
   "cell_type": "markdown",
   "id": "825eab14",
   "metadata": {},
   "source": [
    "## 1. What is Pandas?"
   ]
  },
  {
   "cell_type": "markdown",
   "id": "e512db73",
   "metadata": {},
   "source": [
    "Pandas is a powerful Python library for data analysis, providing efficient data structures and functions for data manipulation."
   ]
  },
  {
   "cell_type": "code",
   "execution_count": 1,
   "id": "cbe406e3",
   "metadata": {},
   "outputs": [],
   "source": [
    "import numpy as np\n",
    "import pandas as pd"
   ]
  },
  {
   "cell_type": "markdown",
   "id": "b2b9895e",
   "metadata": {},
   "source": [
    "Hey there! So, let's imagine Pandas and NumPy as your favorite building blocks. Both are super useful for creating amazing structures, but they have different special abilities.\n",
    "\n",
    "**Pandas** is like having blocks with labels and drawers. You can store your toys and easily find them later because everything is well-organized and labeled. It helps you handle data that's more like a spreadsheet, with rows and columns, just like your school homework.\n",
    "\n",
    "**NumPy** is like having blocks that are great for math and calculations. Imagine you want to quickly count how many red and blue blocks you have, or do some cool math tricks with them. NumPy is perfect for that because it's super fast with numbers.\n",
    "\n",
    "### Key Differences Between Pandas and NumPy:\n",
    "\n",
    "| Feature              | Pandas                           | NumPy                         |\n",
    "|----------------------|----------------------------------|-------------------------------|\n",
    "| Data Structure       | Labeled rows and columns (DataFrame) | Multi-dimensional arrays      |\n",
    "| Ease of Use          | User-friendly for data analysis  | More technical and math-focused|\n",
    "| Data Types           | Mixed data types                 | Mostly numerical data         |\n",
    "\n",
    "### Why Do We Need Pandas in Data Analysis?\n",
    "\n",
    "Pandas is like a superhero for data analysis! When you have a big mess of information and need to clean it up, organize it, and make sense of it, Pandas can swoop in and save the day. \n",
    "\n",
    "**Example:**\n",
    "Imagine you're a detective trying to solve a mystery. You have a notebook full of clues (data) about different suspects. Pandas helps you sort through those clues, find patterns, and figure out who the mystery person is. For example, you can easily filter out suspects based on their height, age, or location. \n",
    "\n",
    "With Pandas, you can do things like:\n",
    "\n",
    "1. **Organize Data:** Keep track of your suspects and their details in a neat table.\n",
    "2. **Filter Information:** Quickly find suspects who match certain criteria (like being taller than 5 feet).\n",
    "3. **Analyze Patterns:** See if there's a pattern in the clues that points to the culprit.\n",
    "\n",
    "So, in a nutshell, Pandas helps you turn a messy pile of information into something neat and easy to understand, making it super helpful for data analysis! 📊🔍\n",
    "\n",
    "Hope that helps! If you have any more questions, just let me know. 😊"
   ]
  },
  {
   "cell_type": "markdown",
   "id": "2ae9ba84",
   "metadata": {},
   "source": [
    "### **Exercise:** Install pandas using `pip install pandas` (if not installed). Import pandas and print its version."
   ]
  },
  {
   "cell_type": "markdown",
   "id": "2ca97c8d",
   "metadata": {},
   "source": [
    "\n",
    "            ### **AI Prompt: Understanding Pandas**\n",
    "            - Explain Pandas as if you're teaching a 10-year-old.\n",
    "            - What are the key differences between Pandas and NumPy?\n",
    "            - Why do we need Pandas in data analysis? Provide an example.\n",
    "            "
   ]
  },
  {
   "cell_type": "markdown",
   "id": "7c47cb8d",
   "metadata": {},
   "source": [
    "## 2. Pandas Objects - Series"
   ]
  },
  {
   "cell_type": "markdown",
   "id": "edabb9a1",
   "metadata": {},
   "source": [
    "Series is a one-dimensional indexed data structure in Pandas."
   ]
  },
  {
   "cell_type": "code",
   "execution_count": 2,
   "id": "f10a0245",
   "metadata": {},
   "outputs": [
    {
     "name": "stdout",
     "output_type": "stream",
     "text": [
      "a    1\n",
      "b    2\n",
      "dtype: int64\n",
      "a    1\n",
      "b    2\n",
      "dtype: int64\n"
     ]
    }
   ],
   "source": [
    "series1 = pd.Series([1, 2], index=['a', 'b'])\n",
    "series2 = pd.Series({\"a\": 1, \"b\": 2})\n",
    "print(series1)\n",
    "print(series2)"
   ]
  },
  {
   "cell_type": "code",
   "execution_count": null,
   "id": "92665bfc",
   "metadata": {},
   "outputs": [
    {
     "data": {
      "text/plain": [
       "Index(['a', 'b'], dtype='object')"
      ]
     },
     "execution_count": 3,
     "metadata": {},
     "output_type": "execute_result"
    }
   ],
   "source": [
    "series1.index\n",
    "# index la cac nhan cua cac dong trong bang"
   ]
  },
  {
   "cell_type": "code",
   "execution_count": null,
   "id": "e56000a3",
   "metadata": {},
   "outputs": [
    {
     "data": {
      "text/plain": [
       "array([1, 2])"
      ]
     },
     "execution_count": 4,
     "metadata": {},
     "output_type": "execute_result"
    }
   ],
   "source": [
    "series2.values\n",
    "# values la cac gia tri cua array"
   ]
  },
  {
   "cell_type": "markdown",
   "id": "eed79f80",
   "metadata": {},
   "source": [
    "### **Exercise:** Create a Series containing 5 city names as values and use index labels as country names."
   ]
  },
  {
   "cell_type": "markdown",
   "id": "d6b41c9e",
   "metadata": {},
   "source": [
    "\n",
    "            ### **AI Prompt: Exploring Pandas Series**\n",
    "            - How does a Pandas Series differ from a Python list?\n",
    "            - Can you provide a real-world example where using a Series is beneficial?\n",
    "            - Generate additional exercises that explore Series operations.\n",
    "            "
   ]
  },
  {
   "cell_type": "markdown",
   "id": "1ef9df40",
   "metadata": {},
   "source": [
    "## 3. Pandas Objects - DataFrame"
   ]
  },
  {
   "cell_type": "markdown",
   "id": "aa3f67d5",
   "metadata": {},
   "source": [
    "DataFrame is a two-dimensional table with labeled rows and columns."
   ]
  },
  {
   "cell_type": "code",
   "execution_count": 5,
   "id": "2f2b85ae",
   "metadata": {},
   "outputs": [
    {
     "name": "stdout",
     "output_type": "stream",
     "text": [
      "        state  year\n",
      "0        Ohio  2000\n",
      "1  California  2010\n",
      "        foo       bar\n",
      "0  0.772922  0.300910\n",
      "1  0.731532  0.375881\n",
      "2  0.443576  0.589051\n"
     ]
    }
   ],
   "source": [
    "df1 = pd.DataFrame({'state': ['Ohio', 'California'], 'year': [2000, 2010]})\n",
    "print(df1)\n",
    "\n",
    "df2 = pd.DataFrame(np.random.rand(3, 2), columns=['foo', 'bar'])\n",
    "print(df2)"
   ]
  },
  {
   "cell_type": "code",
   "execution_count": 6,
   "id": "92b3adeb",
   "metadata": {},
   "outputs": [
    {
     "name": "stdout",
     "output_type": "stream",
     "text": [
      "        state  year\n",
      "0        Ohio  2000\n",
      "1  California  2010\n"
     ]
    }
   ],
   "source": [
    "from pprint import pprint\n",
    "pprint(df1)"
   ]
  },
  {
   "cell_type": "code",
   "execution_count": null,
   "id": "d2a95f5d",
   "metadata": {},
   "outputs": [
    {
     "data": {
      "text/plain": [
       "RangeIndex(start=0, stop=2, step=1)"
      ]
     },
     "execution_count": 7,
     "metadata": {},
     "output_type": "execute_result"
    }
   ],
   "source": [
    "df1.columns\n"
   ]
  },
  {
   "cell_type": "code",
   "execution_count": 8,
   "id": "2af122d9",
   "metadata": {},
   "outputs": [
    {
     "data": {
      "text/plain": [
       "array([['Ohio', 2000],\n",
       "       ['California', 2010]], dtype=object)"
      ]
     },
     "execution_count": 8,
     "metadata": {},
     "output_type": "execute_result"
    }
   ],
   "source": [
    "df1.values\n"
   ]
  },
  {
   "cell_type": "code",
   "execution_count": 9,
   "id": "baccf3a1",
   "metadata": {},
   "outputs": [
    {
     "data": {
      "text/plain": [
       "RangeIndex(start=0, stop=2, step=1)"
      ]
     },
     "execution_count": 9,
     "metadata": {},
     "output_type": "execute_result"
    }
   ],
   "source": [
    "df1.index"
   ]
  },
  {
   "cell_type": "code",
   "execution_count": 11,
   "id": "82b63c70",
   "metadata": {},
   "outputs": [
    {
     "name": "stdout",
     "output_type": "stream",
     "text": [
      "         too       far\n",
      "01  0.200150  0.201454\n",
      "02  0.111765  0.339657\n",
      "03  0.034390  0.636285\n"
     ]
    }
   ],
   "source": [
    "df3=pd.DataFrame(np.random.rand(3,2),columns=[\"too\",\"far\"],index=[\"01\",\"02\",\"03\"])\n",
    "pprint(df3)"
   ]
  },
  {
   "cell_type": "markdown",
   "id": "914c98d5",
   "metadata": {},
   "source": [
    "### **Exercise:** Create a DataFrame with student names, their subjects, and corresponding grades."
   ]
  },
  {
   "cell_type": "code",
   "execution_count": 19,
   "id": "acc73bef",
   "metadata": {},
   "outputs": [
    {
     "data": {
      "text/html": [
       "<div>\n",
       "<style scoped>\n",
       "    .dataframe tbody tr th:only-of-type {\n",
       "        vertical-align: middle;\n",
       "    }\n",
       "\n",
       "    .dataframe tbody tr th {\n",
       "        vertical-align: top;\n",
       "    }\n",
       "\n",
       "    .dataframe thead th {\n",
       "        text-align: right;\n",
       "    }\n",
       "</style>\n",
       "<table border=\"1\" class=\"dataframe\">\n",
       "  <thead>\n",
       "    <tr style=\"text-align: right;\">\n",
       "      <th></th>\n",
       "      <th>name</th>\n",
       "      <th>math</th>\n",
       "      <th>physics</th>\n",
       "    </tr>\n",
       "  </thead>\n",
       "  <tbody>\n",
       "    <tr>\n",
       "      <th>0</th>\n",
       "      <td>Linh</td>\n",
       "      <td>6</td>\n",
       "      <td>8</td>\n",
       "    </tr>\n",
       "    <tr>\n",
       "      <th>1</th>\n",
       "      <td>ngan</td>\n",
       "      <td>9</td>\n",
       "      <td>8</td>\n",
       "    </tr>\n",
       "    <tr>\n",
       "      <th>2</th>\n",
       "      <td>Khue</td>\n",
       "      <td>7</td>\n",
       "      <td>8</td>\n",
       "    </tr>\n",
       "  </tbody>\n",
       "</table>\n",
       "</div>"
      ],
      "text/plain": [
       "   name  math  physics\n",
       "0  Linh     6        8\n",
       "1  ngan     9        8\n",
       "2  Khue     7        8"
      ]
     },
     "execution_count": 19,
     "metadata": {},
     "output_type": "execute_result"
    }
   ],
   "source": [
    "student={'name':[\"Linh\",\"ngan\",\"Khue\"],\"math\":[6,9,7],\"physics\":[8,8,8]}\n",
    "stu=pd.DataFrame(student)\n",
    "stu"
   ]
  },
  {
   "cell_type": "markdown",
   "id": "b7796a3f",
   "metadata": {},
   "source": [
    "\n",
    "            ### **AI Prompt: Working with DataFrames**\n",
    "            - Compare a DataFrame with an SQL table. How are they similar and different?\n",
    "            - What are some common operations performed on a DataFrame?\n",
    "            - Describe a scenario where a DataFrame is more useful than a Series.\n",
    "            "
   ]
  },
  {
   "cell_type": "code",
   "execution_count": 29,
   "id": "8565adca",
   "metadata": {},
   "outputs": [
    {
     "name": "stdout",
     "output_type": "stream",
     "text": [
      "  cot  A  b\n",
      "0  r1  1  2\n",
      "1  r2  2  3\n",
      "2  r3  3  5\n"
     ]
    }
   ],
   "source": [
    "dulieucosan={'cot':[\"r1\",\"r2\",\"r3\"],'A':[1,2,3],'b':[2,3,5]}\n",
    "them = pd.DataFrame(dulieucosan)\n",
    "pprint(them)"
   ]
  },
  {
   "cell_type": "markdown",
   "id": "4c73cbe0",
   "metadata": {},
   "source": [
    "## 4. Indexing and Selection"
   ]
  },
  {
   "cell_type": "markdown",
   "id": "0539bcc0",
   "metadata": {},
   "source": [
    "Pandas provides various ways to select and retrieve data using `.loc[]` and `.iloc[]`."
   ]
  },
  {
   "cell_type": "code",
   "execution_count": null,
   "id": "984e9222",
   "metadata": {},
   "outputs": [
    {
     "name": "stdout",
     "output_type": "stream",
     "text": [
      "a    10\n",
      "b    11\n",
      "c    12\n",
      "d    13\n",
      "dtype: int64\n",
      "11\n",
      "11\n"
     ]
    }
   ],
   "source": [
    "s1 = pd.Series(range(10, 14), index=list(\"abcd\"))\n",
    "pprint(s1)\n",
    "print(s1.loc['b'])\n",
    "print(s1.iloc[1]) #implicit index bat dau danh so tu 0, truy cap vao value trong dataframe"
   ]
  },
  {
   "cell_type": "code",
   "execution_count": null,
   "id": "75320574",
   "metadata": {},
   "outputs": [
    {
     "ename": "NameError",
     "evalue": "name 'b' is not defined",
     "output_type": "error",
     "traceback": [
      "\u001b[1;31m---------------------------------------------------------------------------\u001b[0m",
      "\u001b[1;31mNameError\u001b[0m                                 Traceback (most recent call last)",
      "Cell \u001b[1;32mIn[24], line 1\u001b[0m\n\u001b[1;32m----> 1\u001b[0m s1\u001b[38;5;241m.\u001b[39mkeys(\u001b[43mb\u001b[49m)\n",
      "\u001b[1;31mNameError\u001b[0m: name 'b' is not defined"
     ]
    }
   ],
   "source": []
  },
  {
   "cell_type": "markdown",
   "id": "e35260f5",
   "metadata": {},
   "source": [
    "### **Exercise:** Given a Series of five countries and their populations, retrieve the population of a specific country using `.loc[]`."
   ]
  },
  {
   "cell_type": "markdown",
   "id": "8cf61194",
   "metadata": {},
   "source": [
    "\n",
    "            ### **AI Prompt: Mastering Indexing**\n",
    "            - What is the difference between `.loc[]` and `.iloc[]` in Pandas?\n",
    "            - How can incorrect indexing lead to errors in data analysis?\n",
    "            - Generate a challenging indexing problem and explain how to solve it.\n",
    "            "
   ]
  },
  {
   "cell_type": "markdown",
   "id": "bebb3084",
   "metadata": {},
   "source": [
    "# ghep series\n"
   ]
  },
  {
   "cell_type": "code",
   "execution_count": null,
   "id": "28dd75f0",
   "metadata": {},
   "outputs": [],
   "source": [
    "ser=pd.Series()"
   ]
  },
  {
   "cell_type": "markdown",
   "id": "da3d3724",
   "metadata": {},
   "source": [
    "## 5. Handling Missing Data"
   ]
  },
  {
   "cell_type": "markdown",
   "id": "0037acfe",
   "metadata": {},
   "source": [
    "Pandas allows handling missing values using `fillna()` or `dropna()`."
   ]
  },
  {
   "cell_type": "code",
   "execution_count": 25,
   "id": "225da5cd",
   "metadata": {},
   "outputs": [
    {
     "name": "stdout",
     "output_type": "stream",
     "text": [
      "     A    B\n",
      "0  1.0  0.0\n",
      "1  2.0  3.0\n",
      "2  0.0  4.0\n"
     ]
    }
   ],
   "source": [
    "df_missing = pd.DataFrame({'A': [1, 2, None], 'B': [None, 3, 4]})\n",
    "df_filled = df_missing.fillna(0)\n",
    "print(df_filled)"
   ]
  },
  {
   "cell_type": "markdown",
   "id": "b8201c4d",
   "metadata": {},
   "source": [
    "### **Exercise:** Create a DataFrame with missing values and replace them with the column mean."
   ]
  },
  {
   "cell_type": "markdown",
   "id": "c2ea7049",
   "metadata": {},
   "source": [
    "\n",
    "            ### **AI Prompt: Handling Missing Data**\n",
    "            - Why is handling missing data important in real-world datasets?\n",
    "            - Compare the differences between `.fillna()`, `.dropna()`, and `.interpolate()`.\n",
    "            - What are some strategies for handling missing categorical values?\n",
    "            "
   ]
  },
  {
   "cell_type": "markdown",
   "id": "626ac871",
   "metadata": {},
   "source": [
    "## 6. MultiIndex (Hierarchical Indexing)"
   ]
  },
  {
   "cell_type": "markdown",
   "id": "f75c77d8",
   "metadata": {},
   "source": [
    "MultiIndex allows working with hierarchical data efficiently."
   ]
  },
  {
   "cell_type": "code",
   "execution_count": null,
   "id": "d39e59cf",
   "metadata": {},
   "outputs": [],
   "source": [
    "index = [('California', 2000), ('California', 2010), ('New York', 2000)]\n",
    "populations = [33871648, 37253956, 18976457]\n",
    "ind = pd.MultiIndex.from_tuples(index, names=('State', 'Year'))\n",
    "df_multi = pd.DataFrame({'Population': populations}, index=ind)\n",
    "print(df_multi)"
   ]
  },
  {
   "cell_type": "markdown",
   "id": "869ef8d3",
   "metadata": {},
   "source": [
    "### **Exercise:** Create a MultiIndex DataFrame for sales data across multiple years and retrieve sales for a specific year."
   ]
  },
  {
   "cell_type": "markdown",
   "id": "92d29199",
   "metadata": {},
   "source": [
    "\n",
    "            ### **AI Prompt: Exploring MultiIndex**\n",
    "            - When should you use MultiIndex instead of a simple index?\n",
    "            - How does MultiIndex impact performance in large datasets?\n",
    "            - Can you create a dataset where MultiIndexing is necessary?\n",
    "            "
   ]
  },
  {
   "cell_type": "markdown",
   "id": "5bfe699e",
   "metadata": {},
   "source": [
    "## Final Comprehensive Exercise"
   ]
  },
  {
   "cell_type": "markdown",
   "id": "1c6a2c67",
   "metadata": {},
   "source": [
    "- Create a dataset of 10 employees with **Name, Age, Department, Salary, and Year of Joining**.\n",
    "- Retrieve employees in a specific department.\n",
    "- Fill missing salaries with the department average.\n",
    "- Create a MultiIndex grouping employees by **Department and Year of Joining**.\n",
    "- Display the department with the highest average salary."
   ]
  }
 ],
 "metadata": {
  "kernelspec": {
   "display_name": "Python 3",
   "language": "python",
   "name": "python3"
  },
  "language_info": {
   "codemirror_mode": {
    "name": "ipython",
    "version": 3
   },
   "file_extension": ".py",
   "mimetype": "text/x-python",
   "name": "python",
   "nbconvert_exporter": "python",
   "pygments_lexer": "ipython3",
   "version": "3.13.2"
  }
 },
 "nbformat": 4,
 "nbformat_minor": 5
}
