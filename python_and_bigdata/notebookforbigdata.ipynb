{
 "cells": [
  {
   "cell_type": "markdown",
   "metadata": {},
   "source": [
    "### WEEK1\n",
    "\n",
    "goup work, lam project \n",
    "#Cach xử lí dữ liệu vừa và nhỏ: quy trình, đối với big data chia nhỏ, phân tán ra để xử lí\n",
    "handle with bigdata\n",
    "\n",
    "markdown for text \n",
    "variables\n",
    "\n",
    "string\n",
    "\n",
    "number\n",
    "\n"
   ]
  },
  {
   "cell_type": "code",
   "execution_count": 1,
   "metadata": {},
   "outputs": [
    {
     "name": "stdout",
     "output_type": "stream",
     "text": [
      "hello\n"
     ]
    }
   ],
   "source": [
    "print(\"hello\")"
   ]
  },
  {
   "cell_type": "code",
   "execution_count": 1,
   "metadata": {},
   "outputs": [
    {
     "name": "stdout",
     "output_type": "stream",
     "text": [
      "Hello K\n",
      "hello ngan\n"
     ]
    }
   ],
   "source": [
    "message = \"hello k\"\n",
    "message = message.title()\n",
    "print(message)\n",
    "message = \"hello ngan\"\n",
    "print(message)"
   ]
  },
  {
   "cell_type": "markdown",
   "metadata": {},
   "source": [
    "# VARIABLE\n",
    "variable lke a labels called message to assign to the value \n",
    "khong cho phep dau canh trong viec dat ten\n"
   ]
  },
  {
   "cell_type": "markdown",
   "metadata": {},
   "source": [
    "# string\n",
    "a series of charactor\n",
    "with method linke. tiltle , .upper\n",
    "\n"
   ]
  },
  {
   "cell_type": "code",
   "execution_count": 4,
   "metadata": {},
   "outputs": [
    {
     "name": "stdout",
     "output_type": "stream",
     "text": [
      "hi,khue\n",
      "hi,khue\n",
      "3e+01\n"
     ]
    }
   ],
   "source": [
    "dir(str)\n",
    "chao=input(\"say hi\")\n",
    "den=input(\"name\")\n",
    "print(f\"{chao},{den}\")\n",
    "loichao=\"{},{}\".format(chao,den)\n",
    "print(loichao)\n",
    "so=float(30.095)\n",
    "print(f\"{so:.2}\")\n"
   ]
  },
  {
   "cell_type": "markdown",
   "metadata": {},
   "source": [
    "### Week2 \n",
    "# Các methodmethod: try lstrip, rstrip \n"
   ]
  },
  {
   "cell_type": "code",
   "execution_count": 7,
   "metadata": {},
   "outputs": [
    {
     "name": "stdout",
     "output_type": "stream",
     "text": [
      "normal     khue  nguyen   \n",
      "rstring:     khue  nguyen\n",
      "lstring: khue  nguyen   \n"
     ]
    }
   ],
   "source": [
    "fav1=\"    khue  nguyen   \"\n",
    "print (\"normal\",fav1, end=\"\\n\")\n",
    "print (\"rstring:\", fav1.rstrip(), end=\"\\n\")\n",
    "print (\"lstring:\", fav1.lstrip())"
   ]
  },
  {
   "cell_type": "markdown",
   "metadata": {},
   "source": [
    "bai tap trong textbook\n",
    "khi text duoi dang nhieu dong thi insert bang cach nhap 3 lần dấu nhay kép"
   ]
  },
  {
   "cell_type": "code",
   "execution_count": 8,
   "metadata": {},
   "outputs": [
    {
     "name": "stdout",
     "output_type": "stream",
     "text": [
      "\n",
      "alha  oiquciq fcfioua;\n",
      "ffajfa ffajfajfhiqeihg \n"
     ]
    }
   ],
   "source": [
    "zen=\"\"\"\n",
    "alha  oiquciq fcfioua;\n",
    "ffajfa ffajfajfhiqeihg \"\"\"\n",
    "print (zen)\n"
   ]
  },
  {
   "cell_type": "markdown",
   "metadata": {},
   "source": [
    "hàm len() dùng để đo độ dài kí tự \n",
    ".split() cắt 1 dãy string thành các từ khác nhau ngăn cách bỏiư dấu cách\n",
    "\n"
   ]
  },
  {
   "cell_type": "code",
   "execution_count": 12,
   "metadata": {},
   "outputs": [
    {
     "name": "stdout",
     "output_type": "stream",
     "text": [
      "['ngan', 'gia', 'lam', 'pho', 'ga', 'nuoc']\n"
     ]
    }
   ],
   "source": [
    "tet = \"ngan gia lam pho ga nuoc\"\n",
    "len(tet.split())\n",
    "tett = \"ngan. gia. lam. pho ga nuoc.\"\n",
    "tett_cleaned = tett.replace(\".\",\"\")\n",
    "print(tett_cleaned. split())\n"
   ]
  },
  {
   "cell_type": "markdown",
   "metadata": {},
   "source": [
    "ngoài ra có thể dùng function set() để biến các split trong text thành 1 tập hợp khi đó các từ giống nhau sẽ đc tính đúng 1 lần \n",
    "constants dc quy uoc la text viet hoa"
   ]
  },
  {
   "cell_type": "code",
   "execution_count": 14,
   "metadata": {},
   "outputs": [
    {
     "data": {
      "text/plain": [
       "4"
      ]
     },
     "execution_count": 14,
     "metadata": {},
     "output_type": "execute_result"
    }
   ],
   "source": [
    "teet =\" tet la tet ve roi\"\n",
    "len(set(teet.split()))"
   ]
  },
  {
   "cell_type": "markdown",
   "metadata": {},
   "source": [
    "# number, interger, and so on\n",
    "ví dụ từ bài cuối "
   ]
  },
  {
   "cell_type": "code",
   "execution_count": 17,
   "metadata": {},
   "outputs": [
    {
     "data": {
      "text/plain": [
       "20"
      ]
     },
     "execution_count": 17,
     "metadata": {},
     "output_type": "execute_result"
    }
   ],
   "source": [
    "p= 13\n",
    "q=11\n",
    "z=p*q\n",
    "phi =(p-1)*(q-1)\n",
    "s=103\n",
    "128**s%z #B\n",
    "85**s%z #F\n",
    "136**s%z #T"
   ]
  },
  {
   "cell_type": "code",
   "execution_count": 4,
   "metadata": {},
   "outputs": [
    {
     "name": "stdout",
     "output_type": "stream",
     "text": [
      "False\n",
      "True\n"
     ]
    }
   ],
   "source": [
    "\n",
    "P = True\n",
    "Q = False\n",
    "print (P and Q)\n",
    "print (P or Q)\n"
   ]
  },
  {
   "cell_type": "markdown",
   "metadata": {},
   "source": [
    "## week 4: 13/2/25\n",
    "slicing \n"
   ]
  },
  {
   "cell_type": "code",
   "execution_count": null,
   "metadata": {},
   "outputs": [
    {
     "name": "stdout",
     "output_type": "stream",
     "text": [
      "[998, 1, 2, 3, 4, 5, 6, 7, 8, 9]\n",
      "[998, 1, 2, 3, 4, 5, 6, 7, 8, 9]\n"
     ]
    }
   ],
   "source": [
    "name = [0,1,2,3,4,5,6,7]\n",
    "name[0:3] # slicing: doi voi slicing cho phep thieu car start stop step, \n",
    "#tao ra 1 bien the copy avoid shallow case\n",
    "digits = list(range(10))\n",
    "alist = digits\n",
    "alist[0]=998\n",
    "print(alist)\n",
    "print(digits)\n"
   ]
  },
  {
   "cell_type": "code",
   "execution_count": 13,
   "metadata": {},
   "outputs": [
    {
     "name": "stdout",
     "output_type": "stream",
     "text": [
      "[998, 1, 2, 3, 4, 5, 6, 7, 8, 9]\n",
      "[0, 1, 2, 3, 4, 5, 6, 7, 8, 9]\n"
     ]
    }
   ],
   "source": [
    "name = [0,1,2,3,4,5,6,7]\n",
    "name[0:3] # slicing: doi voi slicing cho phep thieu car start stop step, \n",
    "#tao ra 1 bien the copy avoid shallow case\n",
    "digits = list(range(10))\n",
    "alist = digits[:]\n",
    "alist[0]=998\n",
    "print(alist)\n",
    "print(digits)"
   ]
  },
  {
   "cell_type": "code",
   "execution_count": 14,
   "metadata": {},
   "outputs": [
    {
     "name": "stdout",
     "output_type": "stream",
     "text": [
      "[998, 1, 2, 3, 4, 5, 6, 7, 8, 9]\n",
      "[0, 1, 2, 3, 4, 5, 6, 7, 8, 9]\n"
     ]
    }
   ],
   "source": [
    "name = [0,1,2,3,4,5,6,7]\n",
    "name[0:3] # slicing: doi voi slicing cho phep thieu car start stop step, \n",
    "#tao ra 1 bien the copy avoid shallow case\n",
    "digits = list(range(10))\n",
    "alist = digits.copy()\n",
    "alist[0]=998\n",
    "print(alist)\n",
    "print(digits)"
   ]
  },
  {
   "cell_type": "code",
   "execution_count": 17,
   "metadata": {},
   "outputs": [
    {
     "ename": "TypeError",
     "evalue": "'int' object does not support item assignment",
     "output_type": "error",
     "traceback": [
      "\u001b[1;31m---------------------------------------------------------------------------\u001b[0m",
      "\u001b[1;31mTypeError\u001b[0m                                 Traceback (most recent call last)",
      "Cell \u001b[1;32mIn[17], line 6\u001b[0m\n\u001b[0;32m      4\u001b[0m digits \u001b[38;5;241m=\u001b[39m \u001b[38;5;28mlist\u001b[39m(\u001b[38;5;28mrange\u001b[39m(\u001b[38;5;241m10\u001b[39m))\n\u001b[0;32m      5\u001b[0m alist \u001b[38;5;241m=\u001b[39m digits[:]\n\u001b[1;32m----> 6\u001b[0m \u001b[43malist\u001b[49m\u001b[43m[\u001b[49m\u001b[38;5;241;43m0\u001b[39;49m\u001b[43m]\u001b[49m\u001b[43m[\u001b[49m\u001b[38;5;241;43m0\u001b[39;49m\u001b[43m]\u001b[49m\u001b[38;5;241m=\u001b[39m\u001b[38;5;241m998\u001b[39m\n\u001b[0;32m      7\u001b[0m \u001b[38;5;28mprint\u001b[39m(alist)\n\u001b[0;32m      8\u001b[0m \u001b[38;5;28mprint\u001b[39m(digits)\n",
      "\u001b[1;31mTypeError\u001b[0m: 'int' object does not support item assignment"
     ]
    }
   ],
   "source": [
    "name = [[1,2],3,4,5,6,7]# label [1,2]\n",
    "name[0:3] # slicing: doi voi slicing cho phep thieu car start stop step, \n",
    "#tao ra 1 bien the copy avoid shallow case, khi copy tranh shallow case dung deep copy\n",
    "digits = list(range(10))\n",
    "alist = digits[:]\n",
    "alist[0][0]=998\n",
    "print(alist)\n",
    "print(digits)"
   ]
  },
  {
   "cell_type": "code",
   "execution_count": null,
   "metadata": {},
   "outputs": [
    {
     "name": "stdout",
     "output_type": "stream",
     "text": [
      "The first three items in the list are: [0, 1, 2]\n",
      "Three items from the middle of the list are :[3, 4, 5]\n",
      "The last three items in the lists are:[5, 6, 7] \n"
     ]
    }
   ],
   "source": [
    "#4.10\n",
    "num = [0,1,2,3,4,5,6,7]\n",
    "print(f\"The first three items in the list are: {num[0:3]}\")\n",
    "mid = len(num)//2 # lay so nguyen\n",
    "print(f\"Three items from the middle of the list are :{num[(mid-1):(mid+2)]}\")\n",
    "print(f\"The last three items in the lists are:{num[-3:]} \")\n"
   ]
  },
  {
   "cell_type": "code",
   "execution_count": 23,
   "metadata": {},
   "outputs": [
    {
     "name": "stdout",
     "output_type": "stream",
     "text": [
      "['pinaple', 'shrimp', 'bacon', 'seafood', 'mix', 'beef']\n",
      "['pinaple', 'shrimp', 'bacon', 'seafood', 'mix']\n",
      "pinaple\n",
      "shrimp\n",
      "bacon\n",
      "seafood\n",
      "mix\n",
      "pinaple\n",
      "shrimp\n",
      "bacon\n",
      "seafood\n",
      "mix\n",
      "beef\n"
     ]
    }
   ],
   "source": [
    "#4.11\n",
    "piza = [\"pinaple\",\"shrimp\",\"bacon\",\"seafood\",\"mix\"]\n",
    "pizza = piza[:]\n",
    "pizza.append(\"beef\")\n",
    "print(pizza)\n",
    "print(piza)\n",
    "for toping in piza:\n",
    "    print(toping)\n",
    "for topping in pizza:\n",
    "    print(topping)"
   ]
  },
  {
   "cell_type": "markdown",
   "metadata": {},
   "source": [
    "## tuple : dung ngoac tron. tao dang du lieu nhu list nhung ko cho phep truy cap vao tung phan tu trong du lieu , dc goi phen tu nhung khong cho thay doi "
   ]
  },
  {
   "cell_type": "code",
   "execution_count": 25,
   "metadata": {},
   "outputs": [
    {
     "name": "stdout",
     "output_type": "stream",
     "text": [
      "fish\n",
      "octopus\n",
      "jellyfish\n",
      "squid\n",
      "fish\n",
      "bunbohue\n",
      "mucxao\n",
      "jellyfish\n"
     ]
    }
   ],
   "source": [
    "menu = (\"fish\",\"octopus\",\"jellyfish\",\"squid\")\n",
    "for food in menu:\n",
    "    print(food)\n",
    "newmenu = (\"fish\",\"bunbohue\",\"mucxao\",\"jellyfish\")\n",
    "for food in newmenu:\n",
    "    print(food)\n",
    "    "
   ]
  },
  {
   "cell_type": "code",
   "execution_count": null,
   "metadata": {},
   "outputs": [],
   "source": [
    "## set: in the curcle braces, do not have any aorder, nen khong truy cap dc vao phan tu co dinh hay sap xep, \n",
    "# khong chap nhan 1 phan tu lap lai nhieu lan s\n",
    "# discard() will not raise an error if the item does not exist which is differ from the remove\n"
   ]
  },
  {
   "cell_type": "code",
   "execution_count": 28,
   "metadata": {},
   "outputs": [
    {
     "name": "stdout",
     "output_type": "stream",
     "text": [
      "False\n"
     ]
    },
    {
     "data": {
      "text/plain": [
       "True"
      ]
     },
     "execution_count": 28,
     "metadata": {},
     "output_type": "execute_result"
    }
   ],
   "source": [
    "print(1==4)\n",
    "bool([])\n",
    "not 1==2\n"
   ]
  },
  {
   "cell_type": "code",
   "execution_count": 25,
   "metadata": {},
   "outputs": [
    {
     "name": "stdout",
     "output_type": "stream",
     "text": [
      "{'To': 1, 'help': 2, 'you': 18, 'understand': 1, 'why': 1, 'prompt': 1, 'engineering': 1, 'is': 9, 'so': 2, 'important,': 1, 'I': 24, 'am': 6, 'going': 9, 'to': 34, 'give': 2, 'an': 6, 'initial': 1, 'example': 2, 'that': 15, 'shows': 1, 'where': 2, 'we': 5, 'tap': 3, 'into': 6, 'really': 4, 'complex': 2, 'capabilities': 2, 'of': 14, 'ChatGPT.': 1, 'But': 7, 'can': 7, 'also': 1, 'do': 6, 'this': 15, 'with': 3, 'other': 2, 'large': 3, 'language': 6, 'models.': 2, 'The': 4, 'way': 7, 'these': 4, 'by': 1, 'using': 2, 'a': 17, 'pattern,': 3, 'pattern': 5, 'use': 4, 'when': 2, \"we're\": 2, 'writing': 2, 'prompts': 1, 'get': 2, 'interesting': 1, 'abilities': 1, 'the': 23, 'Now,': 2, 'if': 2, 'know': 11, 'patterns': 1, 'and': 16, 'will': 5, 'talk': 2, 'about': 6, 'them': 1, 'in': 13, 'detail': 2, 'course,': 1, 'be': 5, 'more': 1, 'effective': 1, 'prompts.': 1, 'You': 2, 'able': 2, 'things': 5, 'people': 2, \"won't\": 1, 'as': 3, 'easily.': 1, 'example.': 1, 'It': 9, 'something': 5, 'called': 1, 'persona': 5, 'pattern.': 1, 'Now': 3, 'not': 5, 'go': 4, 'at': 4, 'point.': 1, 'basically': 1, \"it's\": 2, 'see': 2, 'all': 4, 'over': 1, 'place.': 1, 'lots': 3, 'different': 2, 'examples': 1, 'out': 1, 'there': 1, 'on': 4, 'Internet': 1, 'it': 11, 'things.': 2, 'basic': 1, 'idea': 1, \"you're\": 3, 'ask': 5, 'model': 1, 'case': 1, 'ChatGPT,': 1, 'act': 3, 'like': 5, 'particular': 1, 'persona.': 1, 'what': 5, 'does': 1, 'mean?': 1, 'means': 1, 'person': 1, 'or': 6, 'some': 6, 'inanimate': 1, 'object,': 1, 'animal,': 1, 'system.': 1, \"There's\": 1, 'kinds': 1, 'ways': 1, 'this.': 2, 'interesting.': 1, 'close': 1, 'me,': 1, 'but': 2, 'one': 1, 'nothing': 2, 'domain.': 1, 'One': 1, 'useful': 1, 'imagine,': 1, 'needed': 1, 'phone': 1, 'expert': 2, 'problem,': 2, 'who': 1, 'would': 7, 'call': 1, \"don't\": 4, 'exactly': 1, 'they': 2, 'tell': 4, 'how': 4, 'analyze': 1, 'your': 1, 'wanted': 1, 'could': 1, 'case,': 1, 'my': 6, 'wife': 2, 'speech': 7, 'pathologist.': 2, 'have': 4, 'her': 1, 'look': 2, 'output': 2, 'me': 3, 'good': 2, 'was.': 1, 'being': 3, 'pathologist': 2, 'their': 1, 'job.': 1, 'imagined': 1, 'son': 2, 'was': 2, 'three,': 1, 'he': 1, 'saying': 1, 'properly.': 2, 'went': 1, 'ChatGPT': 4, 'said': 5, 'speech-language': 1, 'three-year-old': 2, 'write': 1, 'assessment': 2, 'for': 3, 'me.': 2, 'child': 5, 'said,': 1, '\"I': 2, 'meed': 4, 'woy.\"': 1, 'imagine': 1, 'might': 2, 'just': 1, 'parent': 1, 'hearing': 1, 'incorrectly.': 1, \"child's\": 3, 'pronouncing': 1, 'correctly.': 1, 'right': 3, 'even': 3, 'capture': 1, 'this,': 1, 'express': 2, \"what's\": 1, 'words,': 1, 'This': 1, 'problem': 1, 'from': 1, 'perspective.': 1, 'language,': 1, 'question': 1, 'describe': 1, 'him.': 1, 'tried': 1, 'think': 1, 'sounded': 1, 'point': 1, 'time.': 1, 'What': 1, 'did': 1, 'say?': 1, 'Well,': 1, 'notice': 1, 'first': 1, 'off,': 1, 'its': 1, 'looks': 1, 'report.': 1, 'says': 6, 'subject': 1, 'sample,': 2, 'sample.': 1, 'woy\"': 1, 'has': 2, 'quotation': 1, 'marks': 1, 'assessment.': 1, 'Based': 1, 'provided': 1, 'appears': 2, 'may': 2, 'experiencing': 1, 'phonological': 3, 'articulation': 3, 'errors,': 1, 'which': 2, 'are': 2, 'common': 1, 'children': 1, 'around': 1, 'age.': 1, 'errors': 2, 'are.': 1, 'known': 1, 'based': 1, 'using,': 1, 'tapping': 1, 'capability': 1, \"there's\": 1, 'error.': 1, 'utterance': 1, 'consonant': 3, 'production': 2, 'possibly': 1, 'difficulty': 2, 'syllable': 1, 'structure.': 1, 'errors.': 1, 'seems': 1, 'having': 1, 'sounds': 1, 'specifically': 1, 'n': 1, 'l': 1, 'sounds.': 1, 'instead': 2, 'need': 2, 'woy': 1, 'toy.': 1, 'Then': 1, 'parentheses': 1, 'assumption.': 1, 'assuming': 1, 'intended': 1, 'words': 1, 'were': 1, 'toy': 1, 'because': 1, 'remember': 1, 'sample': 1, 'was,': 1, 'woy,': 1, 'told': 1, \"wasn't\": 1, 'very': 1, 'example,': 1, 'actually': 1, 'say.': 1}\n"
     ]
    }
   ],
   "source": [
    "message= ''' To help you understand why prompt engineering\n",
    "is so important, I'm going to give you\n",
    "an initial example that shows where we tap into really complex\n",
    "capabilities of ChatGPT. But you can also do this with other large language models. The way we tap into these capabilities is\n",
    "by using a pattern, a pattern that we can use\n",
    "when we're writing prompts to get into these really\n",
    "interesting abilities of the large language models. Now, if you know these\n",
    "patterns and we'll talk about them in detail\n",
    "in this course, you'll be more effective\n",
    "in writing prompts. You'll be able to do things that other people won't be\n",
    "able to do as easily. Now, I'm going to\n",
    "give you an example. It's going to use something\n",
    "called the persona pattern. Now I'm not going to\n",
    "go into detail about the persona pattern\n",
    "at this point. But basically it's a pattern that we see all over the place. You'll see lots of\n",
    "different examples of this pattern out there on the Internet where\n",
    "people talk about using it to do lots and lots\n",
    "of different things. But the basic idea\n",
    "is you're going to ask the large language\n",
    "model in this case ChatGPT, you're going to ask it to act\n",
    "like a particular persona. Now what does that\n",
    "mean? It means like you're going\n",
    "to ask it to act like a person or some\n",
    "inanimate object, or an animal, or some system. There's all kinds of ways\n",
    "that you can use this. It's really interesting. But we're going to use\n",
    "it in this example to tap into a persona\n",
    "that is close to me, but one that I know\n",
    "nothing about the domain. One of the really useful things about the persona pattern, as you can imagine, if\n",
    "you needed to go phone an expert to get help\n",
    "on some problem, you know who you would call but you don't know\n",
    "exactly what they would tell you or how they\n",
    "would analyze your problem, and so I wanted something in the way I know an expert that I could\n",
    "go to in this case, my wife is a speech\n",
    "language pathologist. I can have her look at the output and tell\n",
    "me how good it was. But I know nothing about being a speech language pathologist\n",
    "or how to do their job. I imagined that when\n",
    "my son was three, he was not saying\n",
    "things properly. I went to ChatGPT and I said act as a speech-language\n",
    "pathologist. I'm going to tell you\n",
    "what a three-year-old said and you will write\n",
    "an assessment for me. The child said,\n",
    "\"I meed way woy.\" Now you can imagine\n",
    "this might just me being a parent hearing\n",
    "it incorrectly. The child's not pronouncing\n",
    "things correctly. I don't know the right\n",
    "way to even capture this, to even express what's\n",
    "being said in words, the right way to do all of this. This is a complex problem\n",
    "from my perspective. I don't know how to express\n",
    "all of this in language, even to ask the\n",
    "question properly. But I know I would go to a speech language pathologist and I would describe\n",
    "this to him. I tried to think of something\n",
    "that sounded like something my son might have said\n",
    "at that point in time. What did ChatGPT say? Well, you notice first off, its output looks like a report. It says subject assessment of a three-year-old speech\n",
    "sample, child's speech sample. \"I meed way woy\" has it in quotation marks and\n",
    "it says assessment. Based on the provided\n",
    "speech sample, it appears the child\n",
    "may be experiencing some phonological and\n",
    "articulation errors, which are common in\n",
    "children around this age. I don't know what phonological or articulation errors are. I would not have known to ask\n",
    "ChatGPT for these things. But based on this pattern that I'm using, this\n",
    "persona pattern, I'm tapping into\n",
    "this capability for ChatGPT to look at this and know what the right\n",
    "things are to tell me. It says there's phonological\n",
    "and articulation error. It says the child's utterance\n",
    "appears to have errors and consonant production and possibly some difficulty\n",
    "with syllable structure. It says consonant errors. It seems that the child is having difficulty with\n",
    "the production of some consonant sounds\n",
    "specifically the n and l sounds. The child said meed instead of need and woy instead of toy. Then it has in parentheses\n",
    "it's assumption. It says assuming the\n",
    "intended words were need and toy because you can remember\n",
    "my speech sample was, I meed way woy, which my wife told me it wasn't\n",
    "a very good example, may not be something that a\n",
    "child would actually say. '''\n",
    "input= message.replace(\"\\n\",\" \").replace(\"'ll\",\" will\").replace(\"It's\",\"It is\").replace(\"I'm\",\"I am\")\n",
    "\n",
    "preq = {}\n",
    "for word in input.split():\n",
    "    if word in preq:\n",
    "        preq[word] += 1\n",
    "    else:\n",
    "        preq[word]= 1\n",
    "print(preq)\n",
    "\n"
   ]
  },
  {
   "cell_type": "markdown",
   "metadata": {},
   "source": [
    "### dich van ban bang code, chuyen van ban thanh giong noi: thu suc \n"
   ]
  },
  {
   "cell_type": "markdown",
   "metadata": {},
   "source": [
    "## dictionary"
   ]
  },
  {
   "cell_type": "markdown",
   "metadata": {},
   "source": [
    "# Condition\n"
   ]
  },
  {
   "cell_type": "code",
   "execution_count": 2,
   "metadata": {},
   "outputs": [
    {
     "name": "stdout",
     "output_type": "stream",
     "text": [
      "Hoc sinh gioi\n"
     ]
    }
   ],
   "source": [
    "grade=float(input(\"grade point\"))\n",
    "if 8 <=grade < 10 :\n",
    "    print(\"Hoc sinh gioi\")\n",
    "elif 7 <=grade < 8 :\n",
    "    print(\"hoc dinh kha\")\n",
    "else:\n",
    "    print(\"yeu trung binh\")"
   ]
  },
  {
   "cell_type": "code",
   "execution_count": 7,
   "metadata": {},
   "outputs": [
    {
     "name": "stdout",
     "output_type": "stream",
     "text": [
      "discount: 5.0%\n",
      "you have gift\n"
     ]
    }
   ],
   "source": [
    "age = int(input(\"How old are you?\"))\n",
    "gen = input(\"your gender is (M/F):\")\n",
    "gift =True\n",
    "if age < 10:\n",
    "    discount= 0.15\n",
    "elif age <18:\n",
    "    discount= 0.08\n",
    "    if gen == \"M\" or gen ==\"Male\":\n",
    "        gift = False\n",
    "elif age < 23 :\n",
    "    discount=0.05\n",
    "    if gen == \"M\" or gen ==\"Male\":\n",
    "        gift = False\n",
    "elif age <= 60 :\n",
    "    discount= 0.02\n",
    "    gift = False\n",
    "else:\n",
    "    discount = 0.25\n",
    "print(f\"discount: {discount*100}%\" )\n",
    "if gift:\n",
    "    print(\"you have gift\")\n",
    "else:\n",
    "    print ( \"no gift\")\n"
   ]
  },
  {
   "cell_type": "markdown",
   "metadata": {},
   "source": [
    "text -> tao dictionary, key la tu va value la tan so\n",
    "## While loop\n",
    "continue, break pass"
   ]
  },
  {
   "cell_type": "code",
   "execution_count": null,
   "metadata": {},
   "outputs": [
    {
     "name": "stdout",
     "output_type": "stream",
     "text": [
      "ahhi\n"
     ]
    }
   ],
   "source": [
    "dk= True\n",
    "while dk:\n",
    "    print(\"ahhi\")\n",
    "    break\n"
   ]
  },
  {
   "cell_type": "code",
   "execution_count": 30,
   "metadata": {},
   "outputs": [
    {
     "name": "stdout",
     "output_type": "stream",
     "text": [
      "[4, 3, 2, 1]\n"
     ]
    }
   ],
   "source": [
    "alist = [1,2,3,4]\n",
    "blist=[]\n",
    "while alist:\n",
    "    blist.append(alist.pop())\n",
    "print(blist)"
   ]
  },
  {
   "cell_type": "markdown",
   "metadata": {},
   "source": [
    "## Def function to create your own new code"
   ]
  },
  {
   "cell_type": "markdown",
   "metadata": {},
   "source": [
    "agruement and parameters\n",
    "agruement: gia tri cu the khong duoc truyen gia tri tuy y vao\n",
    "parameters: cho phep truyen gia tri vao"
   ]
  },
  {
   "cell_type": "code",
   "execution_count": null,
   "metadata": {},
   "outputs": [
    {
     "name": "stdout",
     "output_type": "stream",
     "text": [
      "I have not learn anything\n"
     ]
    }
   ],
   "source": [
    "def display():\n",
    "    '''tao moi ne'''\n",
    "    print(\"I have not learn anything\")\n",
    "display()"
   ]
  },
  {
   "cell_type": "code",
   "execution_count": null,
   "metadata": {},
   "outputs": [
    {
     "name": "stdout",
     "output_type": "stream",
     "text": [
      "[1, 'a', 2, 3]\n"
     ]
    }
   ],
   "source": [
    "a=[1,2,3]\n",
    "a.insert(1,\"a\") # chen vao co quan tam den thu tu\n",
    "print(a)"
   ]
  },
  {
   "cell_type": "code",
   "execution_count": 39,
   "metadata": {},
   "outputs": [
    {
     "name": "stdout",
     "output_type": "stream",
     "text": [
      "khue cat\n"
     ]
    }
   ],
   "source": [
    "def nuoipet(nguoinuoi, pet='cat'):\n",
    "    print(nguoinuoi,pet)\n",
    "nuoipet(\"khue\")"
   ]
  },
  {
   "cell_type": "code",
   "execution_count": null,
   "metadata": {},
   "outputs": [
    {
     "data": {
      "text/plain": [
       "{'To': 1,\n",
       " 'help': 2,\n",
       " 'you': 17,\n",
       " 'understand': 1,\n",
       " 'why': 1,\n",
       " 'prompt': 1,\n",
       " 'engineering': 1,\n",
       " 'is': 7,\n",
       " 'so': 2,\n",
       " 'important,': 1,\n",
       " \"I'm\": 6,\n",
       " 'going': 9,\n",
       " 'to': 34,\n",
       " 'give': 2,\n",
       " 'an': 6,\n",
       " 'initial': 1,\n",
       " 'example': 2,\n",
       " 'that': 15,\n",
       " 'shows': 1,\n",
       " 'where': 2,\n",
       " 'we': 4,\n",
       " 'tap': 3,\n",
       " 'into': 6,\n",
       " 'really': 4,\n",
       " 'complex': 2,\n",
       " 'capabilities': 2,\n",
       " 'of': 14,\n",
       " 'ChatGPT.': 1,\n",
       " 'But': 7,\n",
       " 'can': 7,\n",
       " 'also': 1,\n",
       " 'do': 6,\n",
       " 'this': 15,\n",
       " 'with': 3,\n",
       " 'other': 2,\n",
       " 'large': 3,\n",
       " 'language': 6,\n",
       " 'models.': 2,\n",
       " 'The': 4,\n",
       " 'way': 7,\n",
       " 'these': 4,\n",
       " 'by': 1,\n",
       " 'using': 2,\n",
       " 'a': 17,\n",
       " 'pattern,': 3,\n",
       " 'pattern': 5,\n",
       " 'use': 4,\n",
       " 'when': 2,\n",
       " \"we're\": 2,\n",
       " 'writing': 2,\n",
       " 'prompts': 1,\n",
       " 'get': 2,\n",
       " 'interesting': 1,\n",
       " 'abilities': 1,\n",
       " 'the': 23,\n",
       " 'Now,': 2,\n",
       " 'if': 2,\n",
       " 'know': 11,\n",
       " 'patterns': 1,\n",
       " 'and': 16,\n",
       " \"we'll\": 1,\n",
       " 'talk': 2,\n",
       " 'about': 6,\n",
       " 'them': 1,\n",
       " 'in': 13,\n",
       " 'detail': 2,\n",
       " 'course,': 1,\n",
       " \"you'll\": 1,\n",
       " 'be': 5,\n",
       " 'more': 1,\n",
       " 'effective': 1,\n",
       " 'prompts.': 1,\n",
       " \"You'll\": 2,\n",
       " 'able': 2,\n",
       " 'things': 5,\n",
       " 'people': 2,\n",
       " \"won't\": 1,\n",
       " 'as': 3,\n",
       " 'easily.': 1,\n",
       " 'example.': 1,\n",
       " \"It's\": 2,\n",
       " 'something': 5,\n",
       " 'called': 1,\n",
       " 'persona': 5,\n",
       " 'pattern.': 1,\n",
       " 'Now': 3,\n",
       " 'not': 5,\n",
       " 'go': 4,\n",
       " 'at': 4,\n",
       " 'point.': 1,\n",
       " 'basically': 1,\n",
       " \"it's\": 2,\n",
       " 'see': 2,\n",
       " 'all': 4,\n",
       " 'over': 1,\n",
       " 'place.': 1,\n",
       " 'lots': 3,\n",
       " 'different': 2,\n",
       " 'examples': 1,\n",
       " 'out': 1,\n",
       " 'there': 1,\n",
       " 'on': 4,\n",
       " 'Internet': 1,\n",
       " 'it': 11,\n",
       " 'things.': 2,\n",
       " 'basic': 1,\n",
       " 'idea': 1,\n",
       " \"you're\": 3,\n",
       " 'ask': 5,\n",
       " 'model': 1,\n",
       " 'case': 1,\n",
       " 'ChatGPT,': 1,\n",
       " 'act': 3,\n",
       " 'like': 5,\n",
       " 'particular': 1,\n",
       " 'persona.': 1,\n",
       " 'what': 5,\n",
       " 'does': 1,\n",
       " 'mean?': 1,\n",
       " 'It': 7,\n",
       " 'means': 1,\n",
       " 'person': 1,\n",
       " 'or': 6,\n",
       " 'some': 6,\n",
       " 'inanimate': 1,\n",
       " 'object,': 1,\n",
       " 'animal,': 1,\n",
       " 'system.': 1,\n",
       " \"There's\": 1,\n",
       " 'kinds': 1,\n",
       " 'ways': 1,\n",
       " 'this.': 2,\n",
       " 'interesting.': 1,\n",
       " 'close': 1,\n",
       " 'me,': 1,\n",
       " 'but': 2,\n",
       " 'one': 1,\n",
       " 'I': 18,\n",
       " 'nothing': 2,\n",
       " 'domain.': 1,\n",
       " 'One': 1,\n",
       " 'useful': 1,\n",
       " 'imagine,': 1,\n",
       " 'needed': 1,\n",
       " 'phone': 1,\n",
       " 'expert': 2,\n",
       " 'problem,': 2,\n",
       " 'who': 1,\n",
       " 'would': 7,\n",
       " 'call': 1,\n",
       " \"don't\": 4,\n",
       " 'exactly': 1,\n",
       " 'they': 2,\n",
       " 'tell': 4,\n",
       " 'how': 4,\n",
       " 'analyze': 1,\n",
       " 'your': 1,\n",
       " 'wanted': 1,\n",
       " 'could': 1,\n",
       " 'case,': 1,\n",
       " 'my': 6,\n",
       " 'wife': 2,\n",
       " 'speech': 7,\n",
       " 'pathologist.': 2,\n",
       " 'have': 4,\n",
       " 'her': 1,\n",
       " 'look': 2,\n",
       " 'output': 2,\n",
       " 'me': 3,\n",
       " 'good': 2,\n",
       " 'was.': 1,\n",
       " 'being': 3,\n",
       " 'pathologist': 2,\n",
       " 'their': 1,\n",
       " 'job.': 1,\n",
       " 'imagined': 1,\n",
       " 'son': 2,\n",
       " 'was': 2,\n",
       " 'three,': 1,\n",
       " 'he': 1,\n",
       " 'saying': 1,\n",
       " 'properly.': 2,\n",
       " 'went': 1,\n",
       " 'ChatGPT': 4,\n",
       " 'said': 5,\n",
       " 'speech-language': 1,\n",
       " 'three-year-old': 2,\n",
       " 'will': 1,\n",
       " 'write': 1,\n",
       " 'assessment': 2,\n",
       " 'for': 3,\n",
       " 'me.': 2,\n",
       " 'child': 5,\n",
       " 'said,': 1,\n",
       " '\"I': 2,\n",
       " 'meed': 4,\n",
       " 'woy.\"': 1,\n",
       " 'imagine': 1,\n",
       " 'might': 2,\n",
       " 'just': 1,\n",
       " 'parent': 1,\n",
       " 'hearing': 1,\n",
       " 'incorrectly.': 1,\n",
       " \"child's\": 3,\n",
       " 'pronouncing': 1,\n",
       " 'correctly.': 1,\n",
       " 'right': 3,\n",
       " 'even': 3,\n",
       " 'capture': 1,\n",
       " 'this,': 1,\n",
       " 'express': 2,\n",
       " \"what's\": 1,\n",
       " 'words,': 1,\n",
       " 'This': 1,\n",
       " 'problem': 1,\n",
       " 'from': 1,\n",
       " 'perspective.': 1,\n",
       " 'language,': 1,\n",
       " 'question': 1,\n",
       " 'describe': 1,\n",
       " 'him.': 1,\n",
       " 'tried': 1,\n",
       " 'think': 1,\n",
       " 'sounded': 1,\n",
       " 'point': 1,\n",
       " 'time.': 1,\n",
       " 'What': 1,\n",
       " 'did': 1,\n",
       " 'say?': 1,\n",
       " 'Well,': 1,\n",
       " 'notice': 1,\n",
       " 'first': 1,\n",
       " 'off,': 1,\n",
       " 'its': 1,\n",
       " 'looks': 1,\n",
       " 'report.': 1,\n",
       " 'says': 6,\n",
       " 'subject': 1,\n",
       " 'sample,': 2,\n",
       " 'sample.': 1,\n",
       " 'woy\"': 1,\n",
       " 'has': 2,\n",
       " 'quotation': 1,\n",
       " 'marks': 1,\n",
       " 'assessment.': 1,\n",
       " 'Based': 1,\n",
       " 'provided': 1,\n",
       " 'appears': 2,\n",
       " 'may': 2,\n",
       " 'experiencing': 1,\n",
       " 'phonological': 3,\n",
       " 'articulation': 3,\n",
       " 'errors,': 1,\n",
       " 'which': 2,\n",
       " 'are': 2,\n",
       " 'common': 1,\n",
       " 'children': 1,\n",
       " 'around': 1,\n",
       " 'age.': 1,\n",
       " 'errors': 2,\n",
       " 'are.': 1,\n",
       " 'known': 1,\n",
       " 'based': 1,\n",
       " 'using,': 1,\n",
       " 'tapping': 1,\n",
       " 'capability': 1,\n",
       " \"there's\": 1,\n",
       " 'error.': 1,\n",
       " 'utterance': 1,\n",
       " 'consonant': 3,\n",
       " 'production': 2,\n",
       " 'possibly': 1,\n",
       " 'difficulty': 2,\n",
       " 'syllable': 1,\n",
       " 'structure.': 1,\n",
       " 'errors.': 1,\n",
       " 'seems': 1,\n",
       " 'having': 1,\n",
       " 'sounds': 1,\n",
       " 'specifically': 1,\n",
       " 'n': 1,\n",
       " 'l': 1,\n",
       " 'sounds.': 1,\n",
       " 'instead': 2,\n",
       " 'need': 2,\n",
       " 'woy': 1,\n",
       " 'toy.': 1,\n",
       " 'Then': 1,\n",
       " 'parentheses': 1,\n",
       " 'assumption.': 1,\n",
       " 'assuming': 1,\n",
       " 'intended': 1,\n",
       " 'words': 1,\n",
       " 'were': 1,\n",
       " 'toy': 1,\n",
       " 'because': 1,\n",
       " 'remember': 1,\n",
       " 'sample': 1,\n",
       " 'was,': 1,\n",
       " 'woy,': 1,\n",
       " 'told': 1,\n",
       " \"wasn't\": 1,\n",
       " 'very': 1,\n",
       " 'example,': 1,\n",
       " 'actually': 1,\n",
       " 'say.': 1}"
      ]
     },
     "execution_count": 43,
     "metadata": {},
     "output_type": "execute_result"
    }
   ],
   "source": [
    "def demtanso(input):\n",
    "    message= input.replace(\"\\n\",\" \").replace(\"'ll\",\" will\").replace(\"It's\",\"It is\").replace(\"I'm\",\"I am\")\n",
    "    preq = {}\n",
    "    for word in input.split():\n",
    "        if word in preq:\n",
    "            preq[word] += 1\n",
    "        else:\n",
    "            preq[word]= 1\n",
    "\n",
    "    return preq #return tra ve gia tri cho ham -> luu du lieu\n",
    "input=''' To help you understand why prompt engineering\n",
    "is so important, I'm going to give you\n",
    "an initial example that shows where we tap into really complex\n",
    "capabilities of ChatGPT. But you can also do this with other large language models. The way we tap into these capabilities is\n",
    "by using a pattern, a pattern that we can use\n",
    "when we're writing prompts to get into these really\n",
    "interesting abilities of the large language models. Now, if you know these\n",
    "patterns and we'll talk about them in detail\n",
    "in this course, you'll be more effective\n",
    "in writing prompts. You'll be able to do things that other people won't be\n",
    "able to do as easily. Now, I'm going to\n",
    "give you an example. It's going to use something\n",
    "called the persona pattern. Now I'm not going to\n",
    "go into detail about the persona pattern\n",
    "at this point. But basically it's a pattern that we see all over the place. You'll see lots of\n",
    "different examples of this pattern out there on the Internet where\n",
    "people talk about using it to do lots and lots\n",
    "of different things. But the basic idea\n",
    "is you're going to ask the large language\n",
    "model in this case ChatGPT, you're going to ask it to act\n",
    "like a particular persona. Now what does that\n",
    "mean? It means like you're going\n",
    "to ask it to act like a person or some\n",
    "inanimate object, or an animal, or some system. There's all kinds of ways\n",
    "that you can use this. It's really interesting. But we're going to use\n",
    "it in this example to tap into a persona\n",
    "that is close to me, but one that I know\n",
    "nothing about the domain. One of the really useful things about the persona pattern, as you can imagine, if\n",
    "you needed to go phone an expert to get help\n",
    "on some problem, you know who you would call but you don't know\n",
    "exactly what they would tell you or how they\n",
    "would analyze your problem, and so I wanted something in the way I know an expert that I could\n",
    "go to in this case, my wife is a speech\n",
    "language pathologist. I can have her look at the output and tell\n",
    "me how good it was. But I know nothing about being a speech language pathologist\n",
    "or how to do their job. I imagined that when\n",
    "my son was three, he was not saying\n",
    "things properly. I went to ChatGPT and I said act as a speech-language\n",
    "pathologist. I'm going to tell you\n",
    "what a three-year-old said and you will write\n",
    "an assessment for me. The child said,\n",
    "\"I meed way woy.\" Now you can imagine\n",
    "this might just me being a parent hearing\n",
    "it incorrectly. The child's not pronouncing\n",
    "things correctly. I don't know the right\n",
    "way to even capture this, to even express what's\n",
    "being said in words, the right way to do all of this. This is a complex problem\n",
    "from my perspective. I don't know how to express\n",
    "all of this in language, even to ask the\n",
    "question properly. But I know I would go to a speech language pathologist and I would describe\n",
    "this to him. I tried to think of something\n",
    "that sounded like something my son might have said\n",
    "at that point in time. What did ChatGPT say? Well, you notice first off, its output looks like a report. It says subject assessment of a three-year-old speech\n",
    "sample, child's speech sample. \"I meed way woy\" has it in quotation marks and\n",
    "it says assessment. Based on the provided\n",
    "speech sample, it appears the child\n",
    "may be experiencing some phonological and\n",
    "articulation errors, which are common in\n",
    "children around this age. I don't know what phonological or articulation errors are. I would not have known to ask\n",
    "ChatGPT for these things. But based on this pattern that I'm using, this\n",
    "persona pattern, I'm tapping into\n",
    "this capability for ChatGPT to look at this and know what the right\n",
    "things are to tell me. It says there's phonological\n",
    "and articulation error. It says the child's utterance\n",
    "appears to have errors and consonant production and possibly some difficulty\n",
    "with syllable structure. It says consonant errors. It seems that the child is having difficulty with\n",
    "the production of some consonant sounds\n",
    "specifically the n and l sounds. The child said meed instead of need and woy instead of toy. Then it has in parentheses\n",
    "it's assumption. It says assuming the\n",
    "intended words were need and toy because you can remember\n",
    "my speech sample was, I meed way woy, which my wife told me it wasn't\n",
    "a very good example, may not be something that a\n",
    "child would actually say. '''\n",
    "demtanso(input)\n"
   ]
  },
  {
   "cell_type": "markdown",
   "metadata": {},
   "source": [
    "## 27/2/25\n",
    "one * in def, coi parameter nhu list\n",
    "two * in def coi parameter nhu dictionary"
   ]
  },
  {
   "cell_type": "code",
   "execution_count": 8,
   "metadata": {},
   "outputs": [
    {
     "data": {
      "text/plain": [
       "27"
      ]
     },
     "execution_count": 8,
     "metadata": {},
     "output_type": "execute_result"
    }
   ],
   "source": [
    "def is_prime(n):\n",
    "    if n<=1:\n",
    "        return False\n",
    "    else: \n",
    "        for d in range(2,int(n**0.5)+1):\n",
    "            if n%d==0:\n",
    "                return False\n",
    "    return True\n",
    "\n",
    "\n",
    "is_prime(25)\n",
    "\n",
    "def nhieugiatri(*size):\n",
    "    return sum(size)\n",
    "\n",
    "nhieugiatri(4,6,8,9)"
   ]
  },
  {
   "cell_type": "code",
   "execution_count": 21,
   "metadata": {},
   "outputs": [
    {
     "name": "stdout",
     "output_type": "stream",
     "text": [
      "{'city': 'halong', 'name': 'khue', 'id': 11}\n"
     ]
    }
   ],
   "source": [
    "diem_so = {\"toan\":8,\"li\":4}\n",
    "def student(name, id,**st):\n",
    "    st['name']=name\n",
    "    st['id']=id\n",
    "    return st\n",
    "st1= student('khue',11, city=\"halong\")\n",
    "print(st1)\n",
    "\n"
   ]
  },
  {
   "cell_type": "markdown",
   "metadata": {},
   "source": [
    "# File\n",
    "\n"
   ]
  },
  {
   "cell_type": "markdown",
   "metadata": {},
   "source": []
  },
  {
   "cell_type": "code",
   "execution_count": 30,
   "metadata": {},
   "outputs": [
    {
     "ename": "SyntaxError",
     "evalue": "(unicode error) 'unicodeescape' codec can't decode bytes in position 2-3: truncated \\UXXXXXXXX escape (4187701075.py, line 1)",
     "output_type": "error",
     "traceback": [
      "\u001b[1;36m  Cell \u001b[1;32mIn[30], line 1\u001b[1;36m\u001b[0m\n\u001b[1;33m    path_abs = \"C:\\Users\\ADMIN\\Downloads\\input.txt\"\u001b[0m\n\u001b[1;37m               ^\u001b[0m\n\u001b[1;31mSyntaxError\u001b[0m\u001b[1;31m:\u001b[0m (unicode error) 'unicodeescape' codec can't decode bytes in position 2-3: truncated \\UXXXXXXXX escape\n"
     ]
    }
   ],
   "source": [
    "path_abs = \"C:\\Users\\ADMIN\\Downloads\\input.txt\"\n",
    "with open(path_abs) as file:\n",
    "    content =file.read()\n",
    "print(content)"
   ]
  },
  {
   "cell_type": "code",
   "execution_count": 28,
   "metadata": {},
   "outputs": [
    {
     "ename": "FileNotFoundError",
     "evalue": "[Errno 2] No such file or directory: 'Downloads/input.txt'",
     "output_type": "error",
     "traceback": [
      "\u001b[1;31m---------------------------------------------------------------------------\u001b[0m",
      "\u001b[1;31mFileNotFoundError\u001b[0m                         Traceback (most recent call last)",
      "Cell \u001b[1;32mIn[28], line 2\u001b[0m\n\u001b[0;32m      1\u001b[0m path_sml \u001b[38;5;241m=\u001b[39m \u001b[38;5;124m\"\u001b[39m\u001b[38;5;124mDownloads/input.txt\u001b[39m\u001b[38;5;124m\"\u001b[39m\n\u001b[1;32m----> 2\u001b[0m \u001b[38;5;28;01mwith\u001b[39;00m \u001b[38;5;28;43mopen\u001b[39;49m\u001b[43m(\u001b[49m\u001b[43mpath_sml\u001b[49m\u001b[43m)\u001b[49m \u001b[38;5;28;01mas\u001b[39;00m file:\n\u001b[0;32m      3\u001b[0m     content1\u001b[38;5;241m=\u001b[39mfile\u001b[38;5;241m.\u001b[39mread()\n\u001b[0;32m      4\u001b[0m \u001b[38;5;28mprint\u001b[39m(content1)\n",
      "File \u001b[1;32m~\\AppData\\Local\\Packages\\PythonSoftwareFoundation.Python.3.13_qbz5n2kfra8p0\\LocalCache\\local-packages\\Python313\\site-packages\\IPython\\core\\interactiveshell.py:324\u001b[0m, in \u001b[0;36m_modified_open\u001b[1;34m(file, *args, **kwargs)\u001b[0m\n\u001b[0;32m    317\u001b[0m \u001b[38;5;28;01mif\u001b[39;00m file \u001b[38;5;129;01min\u001b[39;00m {\u001b[38;5;241m0\u001b[39m, \u001b[38;5;241m1\u001b[39m, \u001b[38;5;241m2\u001b[39m}:\n\u001b[0;32m    318\u001b[0m     \u001b[38;5;28;01mraise\u001b[39;00m \u001b[38;5;167;01mValueError\u001b[39;00m(\n\u001b[0;32m    319\u001b[0m         \u001b[38;5;124mf\u001b[39m\u001b[38;5;124m\"\u001b[39m\u001b[38;5;124mIPython won\u001b[39m\u001b[38;5;124m'\u001b[39m\u001b[38;5;124mt let you open fd=\u001b[39m\u001b[38;5;132;01m{\u001b[39;00mfile\u001b[38;5;132;01m}\u001b[39;00m\u001b[38;5;124m by default \u001b[39m\u001b[38;5;124m\"\u001b[39m\n\u001b[0;32m    320\u001b[0m         \u001b[38;5;124m\"\u001b[39m\u001b[38;5;124mas it is likely to crash IPython. If you know what you are doing, \u001b[39m\u001b[38;5;124m\"\u001b[39m\n\u001b[0;32m    321\u001b[0m         \u001b[38;5;124m\"\u001b[39m\u001b[38;5;124myou can use builtins\u001b[39m\u001b[38;5;124m'\u001b[39m\u001b[38;5;124m open.\u001b[39m\u001b[38;5;124m\"\u001b[39m\n\u001b[0;32m    322\u001b[0m     )\n\u001b[1;32m--> 324\u001b[0m \u001b[38;5;28;01mreturn\u001b[39;00m \u001b[43mio_open\u001b[49m\u001b[43m(\u001b[49m\u001b[43mfile\u001b[49m\u001b[43m,\u001b[49m\u001b[43m \u001b[49m\u001b[38;5;241;43m*\u001b[39;49m\u001b[43margs\u001b[49m\u001b[43m,\u001b[49m\u001b[43m \u001b[49m\u001b[38;5;241;43m*\u001b[39;49m\u001b[38;5;241;43m*\u001b[39;49m\u001b[43mkwargs\u001b[49m\u001b[43m)\u001b[49m\n",
      "\u001b[1;31mFileNotFoundError\u001b[0m: [Errno 2] No such file or directory: 'Downloads/input.txt'"
     ]
    }
   ],
   "source": [
    "path_sml = \"Downloads/input.txt\"\n",
    "with open(path_sml) as file:\n",
    "    content1=file.read()\n",
    "print(content1)"
   ]
  },
  {
   "cell_type": "code",
   "execution_count": null,
   "metadata": {},
   "outputs": [],
   "source": []
  },
  {
   "cell_type": "markdown",
   "metadata": {},
   "source": [
    "# Module\n"
   ]
  },
  {
   "cell_type": "markdown",
   "metadata": {},
   "source": []
  },
  {
   "cell_type": "markdown",
   "metadata": {},
   "source": []
  },
  {
   "cell_type": "code",
   "execution_count": null,
   "metadata": {},
   "outputs": [
    {
     "data": {
      "text/plain": [
       "2"
      ]
     },
     "execution_count": 32,
     "metadata": {},
     "output_type": "execute_result"
    }
   ],
   "source": [
    "import this\n",
    "import random # random dc goi la module co san\n",
    "random.choice([1,2,4,5,6])"
   ]
  },
  {
   "cell_type": "code",
   "execution_count": 34,
   "metadata": {},
   "outputs": [],
   "source": [
    "import re"
   ]
  },
  {
   "cell_type": "code",
   "execution_count": 41,
   "metadata": {},
   "outputs": [
    {
     "name": "stdout",
     "output_type": "stream",
     "text": [
      "   A  B\n",
      "0  1  4\n",
      "1  2  5\n",
      "2  3  6\n"
     ]
    }
   ],
   "source": [
    "import pandas as pd #ky hieu thu vien pandas\n",
    "print(pd.DataFrame({'A':[1,2,3],'B':[4,5,6]}))"
   ]
  },
  {
   "cell_type": "markdown",
   "metadata": {},
   "source": [
    "## tao module cua chinh minh\n"
   ]
  },
  {
   "cell_type": "code",
   "execution_count": null,
   "metadata": {},
   "outputs": [
    {
     "name": "stdout",
     "output_type": "stream",
     "text": [
      "{'to': 2, 'the': 2, 'moon': 1, 'is': 1, 'best': 1, 'song': 1, 'me': 1}\n"
     ]
    },
    {
     "ename": "AttributeError",
     "evalue": "module 'myfirst_module' has no attribute 'test'",
     "output_type": "error",
     "traceback": [
      "\u001b[1;31m---------------------------------------------------------------------------\u001b[0m",
      "\u001b[1;31mAttributeError\u001b[0m                            Traceback (most recent call last)",
      "Cell \u001b[1;32mIn[4], line 4\u001b[0m\n\u001b[0;32m      2\u001b[0m text_nom \u001b[38;5;241m=\u001b[39m mdl1\u001b[38;5;241m.\u001b[39mdemtanso(\u001b[38;5;124m\"\u001b[39m\u001b[38;5;124mto the moon is the best song to me\u001b[39m\u001b[38;5;124m\"\u001b[39m)\n\u001b[0;32m      3\u001b[0m \u001b[38;5;28mprint\u001b[39m(text_nom)\n\u001b[1;32m----> 4\u001b[0m \u001b[43mmdl1\u001b[49m\u001b[38;5;241;43m.\u001b[39;49m\u001b[43mtest\u001b[49m\n",
      "\u001b[1;31mAttributeError\u001b[0m: module 'myfirst_module' has no attribute 'test'"
     ]
    }
   ],
   "source": [
    "import myfirst_module as mdl1\n",
    "text_nom = mdl1.demtanso(\"to the moon is the best song to me\")\n",
    "print(text_nom)\n"
   ]
  },
  {
   "cell_type": "code",
   "execution_count": 43,
   "metadata": {},
   "outputs": [
    {
     "name": "stdout",
     "output_type": "stream",
     "text": [
      "['C:\\\\Program Files\\\\WindowsApps\\\\PythonSoftwareFoundation.Python.3.13_3.13.752.0_x64__qbz5n2kfra8p0\\\\python313.zip', 'C:\\\\Program Files\\\\WindowsApps\\\\PythonSoftwareFoundation.Python.3.13_3.13.752.0_x64__qbz5n2kfra8p0\\\\DLLs', 'C:\\\\Program Files\\\\WindowsApps\\\\PythonSoftwareFoundation.Python.3.13_3.13.752.0_x64__qbz5n2kfra8p0\\\\Lib', 'C:\\\\Program Files\\\\WindowsApps\\\\PythonSoftwareFoundation.Python.3.13_3.13.752.0_x64__qbz5n2kfra8p0', '', 'C:\\\\Users\\\\ADMIN\\\\AppData\\\\Local\\\\Packages\\\\PythonSoftwareFoundation.Python.3.13_qbz5n2kfra8p0\\\\LocalCache\\\\local-packages\\\\Python313\\\\site-packages', 'C:\\\\Users\\\\ADMIN\\\\AppData\\\\Local\\\\Packages\\\\PythonSoftwareFoundation.Python.3.13_qbz5n2kfra8p0\\\\LocalCache\\\\local-packages\\\\Python313\\\\site-packages\\\\win32', 'C:\\\\Users\\\\ADMIN\\\\AppData\\\\Local\\\\Packages\\\\PythonSoftwareFoundation.Python.3.13_qbz5n2kfra8p0\\\\LocalCache\\\\local-packages\\\\Python313\\\\site-packages\\\\win32\\\\lib', 'C:\\\\Users\\\\ADMIN\\\\AppData\\\\Local\\\\Packages\\\\PythonSoftwareFoundation.Python.3.13_qbz5n2kfra8p0\\\\LocalCache\\\\local-packages\\\\Python313\\\\site-packages\\\\Pythonwin', 'C:\\\\Program Files\\\\WindowsApps\\\\PythonSoftwareFoundation.Python.3.13_3.13.752.0_x64__qbz5n2kfra8p0\\\\Lib\\\\site-packages']\n"
     ]
    }
   ],
   "source": [
    "import sys\n",
    "print(sys.path)"
   ]
  },
  {
   "cell_type": "code",
   "execution_count": 3,
   "metadata": {},
   "outputs": [],
   "source": [
    "import sys\n",
    "sys.path.insert(0,'Downloads')"
   ]
  },
  {
   "cell_type": "code",
   "execution_count": 1,
   "metadata": {},
   "outputs": [
    {
     "data": {
      "text/plain": [
       "{'t': 4, 'e': 2, 'f': 1}"
      ]
     },
     "execution_count": 1,
     "metadata": {},
     "output_type": "execute_result"
    }
   ],
   "source": [
    "from myfirst_module import demtanso\n",
    "demtanso(\"t t t e f t e\")"
   ]
  },
  {
   "cell_type": "code",
   "execution_count": null,
   "metadata": {},
   "outputs": [],
   "source": [
    "from myfirst_module import* # import tat ca cac ham trong module \n"
   ]
  },
  {
   "cell_type": "code",
   "execution_count": null,
   "metadata": {},
   "outputs": [],
   "source": [
    "test = [{'ID': '11230552',\n",
    "  'Time taken': '30 mins 1 sec',\n",
    "  'Q1': '0.67',\n",
    "  'Q2': 0.0,\n",
    "  'Q3': 0.67,\n",
    "  'Q4': 0.67,\n",
    "  'Q5': 0.67,\n",
    "  'Q6': 0.67,\n",
    "  'Q7': 0.0,\n",
    "  'Q8': 0.67,\n",
    "  'Q9': 0.67,\n",
    "  'Q10': 0.0,\n",
    "  'Q11': 0.0,\n",
    "  'Q12': 0.67,\n",
    "  'Q13': '0.67',\n",
    "  'Q14': '0.33',\n",
    "  'Q15': 0.67},\n",
    " {'ID': '11230565',\n",
    "  'Time taken': '27 mins 45 secs',\n",
    "  'Q1': '0.67',\n",
    "  'Q2': 0.67,\n",
    "  'Q3': 0.67,\n",
    "  'Q4': 0.67,\n",
    "  'Q5': 0.67,\n",
    "  'Q6': 0.67,\n",
    "  'Q7': 0.67,\n",
    "  'Q8': 0.67,\n",
    "  'Q9': 0.67,\n",
    "  'Q10': 0.67,\n",
    "  'Q11': 0.67,\n",
    "  'Q12': 0.67,\n",
    "  'Q13': '0.67',\n",
    "  'Q14': '0.67',\n",
    "  'Q15': 0.67},\n",
    " {'ID': '11230604',\n",
    "  'Time taken': '30 mins',\n",
    "  'Q1': '0.67',\n",
    "  'Q2': 0.67,\n",
    "  'Q3': 0.67,\n",
    "  'Q4': 0.67,\n",
    "  'Q5': 0.67,\n",
    "  'Q6': 0.67,\n",
    "  'Q7': 0.67,\n",
    "  'Q8': 0.67,\n",
    "  'Q9': 0.67,\n",
    "  'Q10': 0.67,\n",
    "  'Q11': 0.67,\n",
    "  'Q12': 0.67,\n",
    "  'Q13': '0.67',\n",
    "  'Q14': '0.67',\n",
    "  'Q15': 0.67},\n",
    " {'ID': '11230581',\n",
    "  'Time taken': '30 mins 1 sec',\n",
    "  'Q1': '0.67',\n",
    "  'Q2': 0.67,\n",
    "  'Q3': 0.67,\n",
    "  'Q4': 0.67,\n",
    "  'Q5': 0.0,\n",
    "  'Q6': 0.67,\n",
    "  'Q7': 0.67,\n",
    "  'Q8': 0.0,\n",
    "  'Q9': 0.67,\n",
    "  'Q10': 0.0,\n",
    "  'Q11': 0.67,\n",
    "  'Q12': 0.44,\n",
    "  'Q13': '0.00',\n",
    "  'Q14': '0.67',\n",
    "  'Q15': 0.67},\n",
    " {'ID': '11230526',\n",
    "  'Time taken': '30 mins 1 sec',\n",
    "  'Q1': '0.67',\n",
    "  'Q2': 0.67,\n",
    "  'Q3': 0.0,\n",
    "  'Q4': 0.67,\n",
    "  'Q5': 0.67,\n",
    "  'Q6': 0.0,\n",
    "  'Q7': 0.67,\n",
    "  'Q8': 0.67,\n",
    "  'Q9': 0.0,\n",
    "  'Q10': 0.67,\n",
    "  'Q11': 0.33,\n",
    "  'Q12': 0.0,\n",
    "  'Q13': '0.00',\n",
    "  'Q14': '0.67',\n",
    "  'Q15': 0.67},\n",
    " {'ID': '11230564',\n",
    "  'Time taken': '30 mins',\n",
    "  'Q1': '0.67',\n",
    "  'Q2': 0.67,\n",
    "  'Q3': 0.67,\n",
    "  'Q4': 0.67,\n",
    "  'Q5': 0.0,\n",
    "  'Q6': 0.67,\n",
    "  'Q7': 0.0,\n",
    "  'Q8': 0.67,\n",
    "  'Q9': 0.67,\n",
    "  'Q10': 0.67,\n",
    "  'Q11': 0.67,\n",
    "  'Q12': 0.67,\n",
    "  'Q13': '0.33',\n",
    "  'Q14': '0.67',\n",
    "  'Q15': 0.67},\n",
    " {'ID': '11230531',\n",
    "  'Time taken': '30 mins',\n",
    "  'Q1': '0.67',\n",
    "  'Q2': 0.67,\n",
    "  'Q3': 0.67,\n",
    "  'Q4': 0.0,\n",
    "  'Q5': 0.67,\n",
    "  'Q6': 0.67,\n",
    "  'Q7': 0.67,\n",
    "  'Q8': 0.67,\n",
    "  'Q9': 0.0,\n",
    "  'Q10': 0.67,\n",
    "  'Q11': 0.67,\n",
    "  'Q12': 0.67,\n",
    "  'Q13': '0.67',\n",
    "  'Q14': '0.67',\n",
    "  'Q15': 0.0},\n",
    " {'ID': '11230539',\n",
    "  'Time taken': '30 mins 1 sec',\n",
    "  'Q1': '0.00',\n",
    "  'Q2': 0.67,\n",
    "  'Q3': 0.67,\n",
    "  'Q4': 0.67,\n",
    "  'Q5': 0.67,\n",
    "  'Q6': 0.67,\n",
    "  'Q7': 0.67,\n",
    "  'Q8': 0.67,\n",
    "  'Q9': 0.0,\n",
    "  'Q10': 0.67,\n",
    "  'Q11': 0.0,\n",
    "  'Q12': 0.67,\n",
    "  'Q13': '0.67',\n",
    "  'Q14': '0.67',\n",
    "  'Q15': 0.67},\n",
    " {'ID': '11230535',\n",
    "  'Time taken': '29 mins 59 secs',\n",
    "  'Q1': '0.67',\n",
    "  'Q2': 0.67,\n",
    "  'Q3': 0.67,\n",
    "  'Q4': 0.67,\n",
    "  'Q5': 0.67,\n",
    "  'Q6': 0.67,\n",
    "  'Q7': 0.67,\n",
    "  'Q8': 0.0,\n",
    "  'Q9': 0.0,\n",
    "  'Q10': 0.67,\n",
    "  'Q11': 0.67,\n",
    "  'Q12': 0.67,\n",
    "  'Q13': '0.67',\n",
    "  'Q14': '0.67',\n",
    "  'Q15': 0.67},\n",
    " {'ID': '11230553',\n",
    "  'Time taken': '30 mins 1 sec',\n",
    "  'Q1': '0.67',\n",
    "  'Q2': 0.67,\n",
    "  'Q3': 0.67,\n",
    "  'Q4': 0.67,\n",
    "  'Q5': 0.67,\n",
    "  'Q6': 0.67,\n",
    "  'Q7': 0.0,\n",
    "  'Q8': 0.67,\n",
    "  'Q9': 0.67,\n",
    "  'Q10': 0.67,\n",
    "  'Q11': 0.67,\n",
    "  'Q12': 0.67,\n",
    "  'Q13': '0.67',\n",
    "  'Q14': '0.67',\n",
    "  'Q15': 0.67},\n",
    " {'ID': '11230533',\n",
    "  'Time taken': '30 mins',\n",
    "  'Q1': '0.67',\n",
    "  'Q2': 0.67,\n",
    "  'Q3': 0.67,\n",
    "  'Q4': 0.67,\n",
    "  'Q5': 0.67,\n",
    "  'Q6': 0.67,\n",
    "  'Q7': 0.67,\n",
    "  'Q8': 0.67,\n",
    "  'Q9': 0.0,\n",
    "  'Q10': 0.67,\n",
    "  'Q11': 0.0,\n",
    "  'Q12': 0.67,\n",
    "  'Q13': '0.67',\n",
    "  'Q14': '0.00',\n",
    "  'Q15': 0.67},\n",
    " {'ID': '11230567',\n",
    "  'Time taken': '29 mins 20 secs',\n",
    "  'Q1': '0.67',\n",
    "  'Q2': 0.67,\n",
    "  'Q3': 0.67,\n",
    "  'Q4': 0.67,\n",
    "  'Q5': 0.67,\n",
    "  'Q6': 0.67,\n",
    "  'Q7': 0.67,\n",
    "  'Q8': 0.67,\n",
    "  'Q9': 0.67,\n",
    "  'Q10': 0.67,\n",
    "  'Q11': 0.67,\n",
    "  'Q12': 0.67,\n",
    "  'Q13': '0.00',\n",
    "  'Q14': '0.67',\n",
    "  'Q15': 0.67},\n",
    " {'ID': '11230577',\n",
    "  'Time taken': '22 mins 50 secs',\n",
    "  'Q1': '0.67',\n",
    "  'Q2': 0.67,\n",
    "  'Q3': 0.67,\n",
    "  'Q4': 0.67,\n",
    "  'Q5': 0.67,\n",
    "  'Q6': 0.67,\n",
    "  'Q7': 0.67,\n",
    "  'Q8': 0.0,\n",
    "  'Q9': 0.67,\n",
    "  'Q10': 0.67,\n",
    "  'Q11': 0.67,\n",
    "  'Q12': 0.67,\n",
    "  'Q13': '0.67',\n",
    "  'Q14': '0.67',\n",
    "  'Q15': 0.67},\n",
    " {'ID': '11230601',\n",
    "  'Time taken': '30 mins 1 sec',\n",
    "  'Q1': '0.67',\n",
    "  'Q2': 0.67,\n",
    "  'Q3': 0.67,\n",
    "  'Q4': 0.0,\n",
    "  'Q5': 0.67,\n",
    "  'Q6': 0.0,\n",
    "  'Q7': 0.67,\n",
    "  'Q8': 0.67,\n",
    "  'Q9': 0.44,\n",
    "  'Q10': 0.0,\n",
    "  'Q11': 0.67,\n",
    "  'Q12': 0.67,\n",
    "  'Q13': '0.67',\n",
    "  'Q14': '0.00',\n",
    "  'Q15': 0.67},\n",
    " {'ID': '11230588',\n",
    "  'Time taken': '30 mins 6 secs',\n",
    "  'Q1': '0.67',\n",
    "  'Q2': 0.67,\n",
    "  'Q3': 0.67,\n",
    "  'Q4': 0.67,\n",
    "  'Q5': 0.67,\n",
    "  'Q6': 0.67,\n",
    "  'Q7': 0.67,\n",
    "  'Q8': 0.67,\n",
    "  'Q9': 0.67,\n",
    "  'Q10': 0.67,\n",
    "  'Q11': 0.67,\n",
    "  'Q12': 0.67,\n",
    "  'Q13': '0.67',\n",
    "  'Q14': '0.67',\n",
    "  'Q15': 0.67},\n",
    " {'ID': '11230522',\n",
    "  'Time taken': '29 mins 50 secs',\n",
    "  'Q1': '0.67',\n",
    "  'Q2': 0.67,\n",
    "  'Q3': 0.67,\n",
    "  'Q4': 0.67,\n",
    "  'Q5': 0.0,\n",
    "  'Q6': 0.67,\n",
    "  'Q7': 0.67,\n",
    "  'Q8': 0.67,\n",
    "  'Q9': 0.67,\n",
    "  'Q10': 0.67,\n",
    "  'Q11': 0.67,\n",
    "  'Q12': 0.67,\n",
    "  'Q13': '0.33',\n",
    "  'Q14': '0.00',\n",
    "  'Q15': 0.67},\n",
    " {'ID': '11230563',\n",
    "  'Time taken': '27 mins 33 secs',\n",
    "  'Q1': '0.00',\n",
    "  'Q2': 0.67,\n",
    "  'Q3': 0.0,\n",
    "  'Q4': 0.67,\n",
    "  'Q5': 0.67,\n",
    "  'Q6': 0.67,\n",
    "  'Q7': 0.67,\n",
    "  'Q8': 0.67,\n",
    "  'Q9': 0.67,\n",
    "  'Q10': 0.67,\n",
    "  'Q11': 0.0,\n",
    "  'Q12': 0.67,\n",
    "  'Q13': '0.67',\n",
    "  'Q14': '0.00',\n",
    "  'Q15': 0.0},\n",
    " {'ID': '11230591',\n",
    "  'Time taken': '30 mins',\n",
    "  'Q1': '0.67',\n",
    "  'Q2': 0.67,\n",
    "  'Q3': 0.67,\n",
    "  'Q4': 0.67,\n",
    "  'Q5': 0.67,\n",
    "  'Q6': 0.67,\n",
    "  'Q7': 0.67,\n",
    "  'Q8': 0.0,\n",
    "  'Q9': 0.67,\n",
    "  'Q10': 0.0,\n",
    "  'Q11': 0.33,\n",
    "  'Q12': 0.67,\n",
    "  'Q13': '0.67',\n",
    "  'Q14': '0.00',\n",
    "  'Q15': 0.67},\n",
    " {'ID': '11230574',\n",
    "  'Time taken': '30 mins 1 sec',\n",
    "  'Q1': '0.67',\n",
    "  'Q2': 0.67,\n",
    "  'Q3': 0.67,\n",
    "  'Q4': 0.67,\n",
    "  'Q5': 0.0,\n",
    "  'Q6': 0.67,\n",
    "  'Q7': 0.67,\n",
    "  'Q8': 0.0,\n",
    "  'Q9': 0.67,\n",
    "  'Q10': 0.0,\n",
    "  'Q11': 0.67,\n",
    "  'Q12': 0.67,\n",
    "  'Q13': '0.67',\n",
    "  'Q14': '0.67',\n",
    "  'Q15': 0.0},\n",
    " {'ID': '11230512',\n",
    "  'Time taken': '30 mins',\n",
    "  'Q1': '0.00',\n",
    "  'Q2': 0.67,\n",
    "  'Q3': 0.67,\n",
    "  'Q4': 0.67,\n",
    "  'Q5': 0.67,\n",
    "  'Q6': 0.67,\n",
    "  'Q7': 0.67,\n",
    "  'Q8': 0.67,\n",
    "  'Q9': 0.67,\n",
    "  'Q10': 0.67,\n",
    "  'Q11': 0.67,\n",
    "  'Q12': 0.0,\n",
    "  'Q13': '-',\n",
    "  'Q14': '-',\n",
    "  'Q15': 0.67},\n",
    " {'ID': '11230595',\n",
    "  'Time taken': '30 mins',\n",
    "  'Q1': '0.67',\n",
    "  'Q2': 0.67,\n",
    "  'Q3': 0.67,\n",
    "  'Q4': 0.67,\n",
    "  'Q5': 0.67,\n",
    "  'Q6': 0.67,\n",
    "  'Q7': 0.67,\n",
    "  'Q8': 0.67,\n",
    "  'Q9': 0.67,\n",
    "  'Q10': 0.67,\n",
    "  'Q11': 0.67,\n",
    "  'Q12': 0.67,\n",
    "  'Q13': '0.67',\n",
    "  'Q14': '0.00',\n",
    "  'Q15': 0.67},\n",
    " {'ID': '11230592',\n",
    "  'Time taken': '30 mins',\n",
    "  'Q1': '0.00',\n",
    "  'Q2': 0.67,\n",
    "  'Q3': 0.67,\n",
    "  'Q4': 0.0,\n",
    "  'Q5': 0.67,\n",
    "  'Q6': 0.67,\n",
    "  'Q7': 0.67,\n",
    "  'Q8': 0.67,\n",
    "  'Q9': 0.0,\n",
    "  'Q10': 0.0,\n",
    "  'Q11': 0.0,\n",
    "  'Q12': 0.67,\n",
    "  'Q13': '-',\n",
    "  'Q14': '0.67',\n",
    "  'Q15': 0.0},\n",
    " {'ID': '11230549',\n",
    "  'Time taken': '30 mins 1 sec',\n",
    "  'Q1': '0.67',\n",
    "  'Q2': 0.67,\n",
    "  'Q3': 0.0,\n",
    "  'Q4': 0.0,\n",
    "  'Q5': 0.67,\n",
    "  'Q6': 0.67,\n",
    "  'Q7': 0.67,\n",
    "  'Q8': 0.67,\n",
    "  'Q9': 0.67,\n",
    "  'Q10': 0.0,\n",
    "  'Q11': 0.0,\n",
    "  'Q12': 0.67,\n",
    "  'Q13': '0.67',\n",
    "  'Q14': '0.67',\n",
    "  'Q15': 0.67},\n",
    " {'ID': '11230586',\n",
    "  'Time taken': '30 mins 1 sec',\n",
    "  'Q1': '0.67',\n",
    "  'Q2': 0.0,\n",
    "  'Q3': 0.67,\n",
    "  'Q4': 0.0,\n",
    "  'Q5': 0.67,\n",
    "  'Q6': 0.67,\n",
    "  'Q7': 0.67,\n",
    "  'Q8': 0.67,\n",
    "  'Q9': 0.67,\n",
    "  'Q10': 0.67,\n",
    "  'Q11': 0.0,\n",
    "  'Q12': 0.67,\n",
    "  'Q13': '0.67',\n",
    "  'Q14': '0.67',\n",
    "  'Q15': 0.67},\n",
    " {'ID': '11230584',\n",
    "  'Time taken': '30 mins',\n",
    "  'Q1': '0.67',\n",
    "  'Q2': 0.0,\n",
    "  'Q3': 0.67,\n",
    "  'Q4': 0.67,\n",
    "  'Q5': 0.0,\n",
    "  'Q6': 0.67,\n",
    "  'Q7': 0.67,\n",
    "  'Q8': 0.0,\n",
    "  'Q9': 0.0,\n",
    "  'Q10': 0.67,\n",
    "  'Q11': 0.67,\n",
    "  'Q12': 0.67,\n",
    "  'Q13': '0.67',\n",
    "  'Q14': '0.00',\n",
    "  'Q15': 0.67},\n",
    " {'ID': '11230570',\n",
    "  'Time taken': '30 mins 1 sec',\n",
    "  'Q1': '0.67',\n",
    "  'Q2': 0.67,\n",
    "  'Q3': 0.67,\n",
    "  'Q4': 0.67,\n",
    "  'Q5': 0.67,\n",
    "  'Q6': 0.0,\n",
    "  'Q7': 0.67,\n",
    "  'Q8': 0.0,\n",
    "  'Q9': 0.67,\n",
    "  'Q10': 0.67,\n",
    "  'Q11': 0.67,\n",
    "  'Q12': 0.67,\n",
    "  'Q13': '0.67',\n",
    "  'Q14': '0.67',\n",
    "  'Q15': 0.0},\n",
    " {'ID': '11230520',\n",
    "  'Time taken': '30 mins',\n",
    "  'Q1': '-',\n",
    "  'Q2': 0.67,\n",
    "  'Q3': 0.67,\n",
    "  'Q4': 0.67,\n",
    "  'Q5': 0.67,\n",
    "  'Q6': 0.0,\n",
    "  'Q7': 0.67,\n",
    "  'Q8': 0.67,\n",
    "  'Q9': 0.67,\n",
    "  'Q10': 0.67,\n",
    "  'Q11': 0.67,\n",
    "  'Q12': 0.67,\n",
    "  'Q13': '0.67',\n",
    "  'Q14': '0.67',\n",
    "  'Q15': 0.67},\n",
    " {'ID': '11230597',\n",
    "  'Time taken': '30 mins 9 secs',\n",
    "  'Q1': '0.67',\n",
    "  'Q2': 0.67,\n",
    "  'Q3': 0.67,\n",
    "  'Q4': 0.67,\n",
    "  'Q5': 0.0,\n",
    "  'Q6': 0.67,\n",
    "  'Q7': 0.0,\n",
    "  'Q8': 0.67,\n",
    "  'Q9': 0.0,\n",
    "  'Q10': 0.0,\n",
    "  'Q11': 0.0,\n",
    "  'Q12': 0.33,\n",
    "  'Q13': '0.22',\n",
    "  'Q14': '0.67',\n",
    "  'Q15': 0.0},\n",
    " {'ID': '11230538',\n",
    "  'Time taken': '30 mins',\n",
    "  'Q1': '0.67',\n",
    "  'Q2': 0.0,\n",
    "  'Q3': 0.0,\n",
    "  'Q4': 0.67,\n",
    "  'Q5': 0.67,\n",
    "  'Q6': 0.0,\n",
    "  'Q7': 0.0,\n",
    "  'Q8': 0.0,\n",
    "  'Q9': 0.33,\n",
    "  'Q10': 0.67,\n",
    "  'Q11': 0.0,\n",
    "  'Q12': 0.0,\n",
    "  'Q13': '0.00',\n",
    "  'Q14': '0.00',\n",
    "  'Q15': 0.67},\n",
    " {'ID': '11230508',\n",
    "  'Time taken': '30 mins',\n",
    "  'Q1': '0.67',\n",
    "  'Q2': 0.0,\n",
    "  'Q3': 0.67,\n",
    "  'Q4': 0.0,\n",
    "  'Q5': 0.0,\n",
    "  'Q6': 0.67,\n",
    "  'Q7': 0.67,\n",
    "  'Q8': 0.67,\n",
    "  'Q9': 0.67,\n",
    "  'Q10': 0.67,\n",
    "  'Q11': 0.67,\n",
    "  'Q12': 0.67,\n",
    "  'Q13': '0.00',\n",
    "  'Q14': '0.00',\n",
    "  'Q15': 0.67}}]\n"
   ]
  },
  {
   "cell_type": "markdown",
   "metadata": {},
   "source": [
    "## Classes\n",
    "import class giong nhu import module, trong module khong chi chua function ma co the chua ca class\n",
    "ten class co chu dau viet hoa"
   ]
  },
  {
   "cell_type": "code",
   "execution_count": 14,
   "metadata": {},
   "outputs": [
    {
     "name": "stdout",
     "output_type": "stream",
     "text": [
      "lon\n"
     ]
    }
   ],
   "source": [
    "class Dog:\n",
    "    def __init__(self,age, name):\n",
    "        self.name = name\n",
    "        self.age=age\n",
    "    def sit(self):\n",
    "        print(f\"{self.name}is sitting\")\n",
    "    def roll_over(self):\n",
    "        print(f\"{self.name}\"is rolling)\n",
    "    def lonhaynho(self):\n",
    "        if self.age <=5:\n",
    "            print(\"nho\")\n",
    "        else: print(\"lon\")\n",
    "mymeo= Dog( 12,\"meo\")\n",
    "mymeo.lonhaynho()\n"
   ]
  },
  {
   "cell_type": "markdown",
   "metadata": {},
   "source": [
    "tao class tai khoan gom ten tk la so stk va so du, cai nao can private thi dat 2 dau gach \n",
    "tao cac method lien quan\n",
    "btvn: import part2 3. install package o part 4"
   ]
  },
  {
   "cell_type": "markdown",
   "metadata": {},
   "source": [
    "# midterm vs final exam\n",
    "\n",
    "bài midterm 1: bài nhóm: xử lí dữ liệu pandas và trực quan hóa(to be ) - nếu dữ liệu dễ thì khó trình bày, nên chọn các bộ dữ liệu ko sạch (uncleaned: mising,)\n",
    "\n",
    "baì midterm thứ 2_ cá nhân: chấm điểm model machine learning, tổ chức điểm dự đoán model, thầy đưa metric để đo, metric, kết quả dự đoán tốt nhất thì rank sẽ cao, ?? tham gia 1 cuộc thi trên kaggle ntn\n",
    "bài final: xử lí dữ liệu lớn: dung lựơng lớn và khả năng cập nhật liên tục: xử lí dữ liệu ??pyspark\n"
   ]
  },
  {
   "cell_type": "markdown",
   "metadata": {},
   "source": []
  }
 ],
 "metadata": {
  "kernelspec": {
   "display_name": "Python 3",
   "language": "python",
   "name": "python3"
  },
  "language_info": {
   "codemirror_mode": {
    "name": "ipython",
    "version": 3
   },
   "file_extension": ".py",
   "mimetype": "text/x-python",
   "name": "python",
   "nbconvert_exporter": "python",
   "pygments_lexer": "ipython3",
   "version": "3.13.2"
  }
 },
 "nbformat": 4,
 "nbformat_minor": 2
}
